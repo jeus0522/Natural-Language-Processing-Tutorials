{
 "cells": [
  {
   "cell_type": "markdown",
   "metadata": {},
   "source": [
    "### Intent Classification with Rasa NLU using SpaCy \n",
    "+ + A Libary for intent recognition and entity extraction based on SpaCy and Sklearn\n",
    "#### Uses\n",
    "+ Chatbot task\n",
    "+ NL understanding\n",
    "+ Intent classification\n",
    "\n",
    "#### Installation\n",
    "+ pip install rasa_nlu\n",
    "+ python -m rasa_nlu.server &\n",
    "+ sklearn_crfsuite\n",
    "\n",
    "#### using spacy as backend\n",
    "+ pip install rasa_nlu[spacy]\n",
    "+ python -m spacy download en_core_web_md\n",
    "+ python -m spacy link en_core_web_md en\n",
    "  \n",
    "  = = Dataset = =\n",
    "+ demo-rasa.json\n",
    "+ config_spacy.yaml"
   ]
  },
  {
   "cell_type": "code",
   "execution_count": 1,
   "metadata": {},
   "outputs": [],
   "source": [
    "# Load Packages\n",
    "from rasa_nlu.training_data import load_data\n",
    "from rasa_nlu.config import RasaNLUModelConfig\n",
    "from rasa_nlu.model import Trainer\n",
    "from rasa_nlu import config\n",
    "\n"
   ]
  },
  {
   "cell_type": "code",
   "execution_count": 2,
   "metadata": {},
   "outputs": [],
   "source": [
    "# Load Data \n",
    "training_data = load_data('demo-rasa.json')"
   ]
  },
  {
   "cell_type": "code",
   "execution_count": 7,
   "metadata": {},
   "outputs": [],
   "source": [
    "# Config Backend using Scklearn and Spacy\n",
    "trainer = Trainer(config.load(\"config_spacy.yaml\"))"
   ]
  },
  {
   "cell_type": "raw",
   "metadata": {},
   "source": [
    "!cat config_spacy.yaml\n",
    "language: \"en\"\n",
    "\n",
    "pipeline: \"spacy_sklearn\"\n",
    "    =======================\n",
    "\n",
    "## Alternative Config File\n",
    "language: \"en\"\n",
    "\n",
    "pipeline:\n",
    "- name: \"nlp_spacy\"\n",
    "- name: \"tokenizer_spacy\"\n",
    "- name: \"intent_entity_featurizer_regex\"\n",
    "- name: \"intent_featurizer_spacy\"\n",
    "- name: \"ner_crf\"\n",
    "- name: \"ner_synonyms\"\n",
    "- name: \"intent_classifier_sklearn\""
   ]
  },
  {
   "cell_type": "code",
   "execution_count": 8,
   "metadata": {},
   "outputs": [
    {
     "name": "stdout",
     "output_type": "stream",
     "text": [
      "Fitting 2 folds for each of 6 candidates, totalling 12 fits\n"
     ]
    },
    {
     "name": "stderr",
     "output_type": "stream",
     "text": [
      "[Parallel(n_jobs=1)]: Done  12 out of  12 | elapsed:    0.2s finished\n"
     ]
    },
    {
     "data": {
      "text/plain": [
       "<rasa_nlu.model.Interpreter at 0x2b0c051c470>"
      ]
     },
     "execution_count": 8,
     "metadata": {},
     "output_type": "execute_result"
    }
   ],
   "source": [
    "# Training Data\n",
    "trainer.train(training_data)"
   ]
  },
  {
   "cell_type": "code",
   "execution_count": 9,
   "metadata": {},
   "outputs": [],
   "source": [
    "# Returns the directory the model is stored in (Creat a folder to store model in)\n",
    "model_directory = trainer.persist('./projects/')  "
   ]
  },
  {
   "cell_type": "code",
   "execution_count": 10,
   "metadata": {},
   "outputs": [],
   "source": [
    "# Loading Packages for Prediction\n",
    "from rasa_nlu.model import Metadata, Interpreter"
   ]
  },
  {
   "cell_type": "code",
   "execution_count": 11,
   "metadata": {},
   "outputs": [],
   "source": [
    "# where `model_directory points to the folder the model is persisted in\n",
    "interpreter = Interpreter.load(model_directory)"
   ]
  },
  {
   "cell_type": "code",
   "execution_count": 12,
   "metadata": {},
   "outputs": [
    {
     "data": {
      "text/plain": [
       "{'intent': {'name': 'restaurant_search', 'confidence': 0.8725918755787494},\n",
       " 'entities': [{'start': 44,\n",
       "   'end': 50,\n",
       "   'value': 'center',\n",
       "   'entity': 'location',\n",
       "   'confidence': 0.6370011827165407,\n",
       "   'extractor': 'ner_crf'}],\n",
       " 'intent_ranking': [{'name': 'restaurant_search',\n",
       "   'confidence': 0.8725918755787494},\n",
       "  {'name': 'affirm', 'confidence': 0.04975524423834528},\n",
       "  {'name': 'goodbye', 'confidence': 0.046303128452270484},\n",
       "  {'name': 'greet', 'confidence': 0.031349751730634805}],\n",
       " 'text': \"I'm looking for a Chinese restaurant in the center of town\"}"
      ]
     },
     "execution_count": 12,
     "metadata": {},
     "output_type": "execute_result"
    }
   ],
   "source": [
    "# Prediction of Intent\n",
    "interpreter.parse(u\"I'm looking for a Chinese restaurant in the center of town\")"
   ]
  },
  {
   "cell_type": "code",
   "execution_count": 13,
   "metadata": {},
   "outputs": [
    {
     "data": {
      "text/plain": [
       "{'intent': {'name': 'restaurant_search', 'confidence': 0.5394944264374477},\n",
       " 'entities': [{'start': 10,\n",
       "   'end': 17,\n",
       "   'value': 'african',\n",
       "   'entity': 'cuisine',\n",
       "   'confidence': 0.6471120075707754,\n",
       "   'extractor': 'ner_crf'}],\n",
       " 'intent_ranking': [{'name': 'restaurant_search',\n",
       "   'confidence': 0.5394944264374477},\n",
       "  {'name': 'affirm', 'confidence': 0.20430946032894826},\n",
       "  {'name': 'goodbye', 'confidence': 0.14379344138454944},\n",
       "  {'name': 'greet', 'confidence': 0.11240267184905431}],\n",
       " 'text': 'I want an African spot nearby'}"
      ]
     },
     "execution_count": 13,
     "metadata": {},
     "output_type": "execute_result"
    }
   ],
   "source": [
    "interpreter.parse(u\"I want an African spot nearby\")"
   ]
  },
  {
   "cell_type": "code",
   "execution_count": 17,
   "metadata": {},
   "outputs": [
    {
     "data": {
      "text/plain": [
       "{'intent': {'name': 'goodbye', 'confidence': 0.5959627770433836},\n",
       " 'entities': [],\n",
       " 'intent_ranking': [{'name': 'goodbye', 'confidence': 0.5959627770433836},\n",
       "  {'name': 'greet', 'confidence': 0.19823474676787847},\n",
       "  {'name': 'affirm', 'confidence': 0.14040590856353696},\n",
       "  {'name': 'restaurant_search', 'confidence': 0.06539656762520082}],\n",
       " 'text': 'Good bye India'}"
      ]
     },
     "execution_count": 17,
     "metadata": {},
     "output_type": "execute_result"
    }
   ],
   "source": [
    "interpreter.parse(u\"Good bye India\")"
   ]
  },
  {
   "cell_type": "code",
   "execution_count": 21,
   "metadata": {},
   "outputs": [
    {
     "data": {
      "text/plain": [
       "{'intent': {'name': 'restaurant_search', 'confidence': 0.43368166012590426},\n",
       " 'entities': [{'start': 13,\n",
       "   'end': 20,\n",
       "   'value': 'nearest',\n",
       "   'entity': 'location',\n",
       "   'confidence': 0.8560621927107258,\n",
       "   'extractor': 'ner_crf'},\n",
       "  {'start': 21,\n",
       "   'end': 28,\n",
       "   'value': 'italian',\n",
       "   'entity': 'cuisine',\n",
       "   'confidence': 0.7202731704887665,\n",
       "   'extractor': 'ner_crf'}],\n",
       " 'intent_ranking': [{'name': 'restaurant_search',\n",
       "   'confidence': 0.43368166012590426},\n",
       "  {'name': 'affirm', 'confidence': 0.3852147201688789},\n",
       "  {'name': 'greet', 'confidence': 0.10341236956693754},\n",
       "  {'name': 'goodbye', 'confidence': 0.07769125013827961}],\n",
       " 'text': 'Where is the nearest italian restaurant?'}"
      ]
     },
     "execution_count": 21,
     "metadata": {},
     "output_type": "execute_result"
    }
   ],
   "source": [
    "interpreter.parse(u\"Where is the nearest italian restaurant?\")"
   ]
  },
  {
   "cell_type": "code",
   "execution_count": null,
   "metadata": {},
   "outputs": [],
   "source": [
    "### Credits Rasa_nlu\n",
    "#### By Jesse JCharis\n",
    "#### Jesus Saves @ JCharisTec"
   ]
  }
 ],
 "metadata": {
  "kernelspec": {
   "display_name": "Python 3",
   "language": "python",
   "name": "python3"
  },
  "language_info": {
   "codemirror_mode": {
    "name": "ipython",
    "version": 3
   },
   "file_extension": ".py",
   "mimetype": "text/x-python",
   "name": "python",
   "nbconvert_exporter": "python",
   "pygments_lexer": "ipython3",
   "version": "3.5.2"
  }
 },
 "nbformat": 4,
 "nbformat_minor": 2
}

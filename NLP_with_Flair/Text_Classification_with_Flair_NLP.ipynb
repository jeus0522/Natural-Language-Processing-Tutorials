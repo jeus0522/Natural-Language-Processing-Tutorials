{
  "nbformat": 4,
  "nbformat_minor": 0,
  "metadata": {
    "colab": {
      "name": "Text Classification with Flair NLP.ipynb",
      "provenance": [],
      "collapsed_sections": []
    },
    "kernelspec": {
      "name": "python3",
      "display_name": "Python 3"
    }
  },
  "cells": [
    {
      "cell_type": "markdown",
      "metadata": {
        "id": "tBvo84hvnHuo"
      },
      "source": [
        "### NLP with Flair\n",
        "#### Text Classification with Flair\n",
        "+ Task: Predict whether a text is offensive or not\n",
        "\n",
        "#### Installation\n",
        "+ pip install flair\n",
        "\n",
        "#### Steps\n",
        "+ Prepare Dataset\n",
        "  - csv or fasttext format\n",
        "    - `__label__<class> <text>`\n",
        "+ Split Dataset into 3\n",
        "+ Create Corpus and Label Dictionary\n",
        "  - CSVClassificationCorpus (csv)\n",
        "  - ClassificationCorpus (fasttext format,.txt)\n",
        "\n",
        "+ Word Embeddings\n",
        "+ Train Model\n",
        "+ Prediction"
      ]
    },
    {
      "cell_type": "code",
      "metadata": {
        "id": "cI_wAAiMIW0s",
        "outputId": "b0a5e69e-676f-4294-be17-3f56107a4253",
        "colab": {
          "base_uri": "https://localhost:8080/",
          "height": 1000
        }
      },
      "source": [
        "!pip install flair"
      ],
      "execution_count": 1,
      "outputs": [
        {
          "output_type": "stream",
          "text": [
            "Collecting flair\n",
            "\u001b[?25l  Downloading https://files.pythonhosted.org/packages/cd/19/902d1691c1963ab8c9a9578abc2d65c63aa1ecf4f8200143b5ef91ace6f5/flair-0.6.1-py3-none-any.whl (331kB)\n",
            "\r\u001b[K     |█                               | 10kB 16.4MB/s eta 0:00:01\r\u001b[K     |██                              | 20kB 6.0MB/s eta 0:00:01\r\u001b[K     |███                             | 30kB 6.7MB/s eta 0:00:01\r\u001b[K     |████                            | 40kB 8.5MB/s eta 0:00:01\r\u001b[K     |█████                           | 51kB 7.0MB/s eta 0:00:01\r\u001b[K     |██████                          | 61kB 7.7MB/s eta 0:00:01\r\u001b[K     |███████                         | 71kB 8.2MB/s eta 0:00:01\r\u001b[K     |████████                        | 81kB 8.6MB/s eta 0:00:01\r\u001b[K     |█████████                       | 92kB 8.8MB/s eta 0:00:01\r\u001b[K     |█████████▉                      | 102kB 9.2MB/s eta 0:00:01\r\u001b[K     |██████████▉                     | 112kB 9.2MB/s eta 0:00:01\r\u001b[K     |███████████▉                    | 122kB 9.2MB/s eta 0:00:01\r\u001b[K     |████████████▉                   | 133kB 9.2MB/s eta 0:00:01\r\u001b[K     |█████████████▉                  | 143kB 9.2MB/s eta 0:00:01\r\u001b[K     |██████████████▉                 | 153kB 9.2MB/s eta 0:00:01\r\u001b[K     |███████████████▉                | 163kB 9.2MB/s eta 0:00:01\r\u001b[K     |████████████████▉               | 174kB 9.2MB/s eta 0:00:01\r\u001b[K     |█████████████████▉              | 184kB 9.2MB/s eta 0:00:01\r\u001b[K     |██████████████████▉             | 194kB 9.2MB/s eta 0:00:01\r\u001b[K     |███████████████████▊            | 204kB 9.2MB/s eta 0:00:01\r\u001b[K     |████████████████████▊           | 215kB 9.2MB/s eta 0:00:01\r\u001b[K     |█████████████████████▊          | 225kB 9.2MB/s eta 0:00:01\r\u001b[K     |██████████████████████▊         | 235kB 9.2MB/s eta 0:00:01\r\u001b[K     |███████████████████████▊        | 245kB 9.2MB/s eta 0:00:01\r\u001b[K     |████████████████████████▊       | 256kB 9.2MB/s eta 0:00:01\r\u001b[K     |█████████████████████████▊      | 266kB 9.2MB/s eta 0:00:01\r\u001b[K     |██████████████████████████▊     | 276kB 9.2MB/s eta 0:00:01\r\u001b[K     |███████████████████████████▊    | 286kB 9.2MB/s eta 0:00:01\r\u001b[K     |████████████████████████████▊   | 296kB 9.2MB/s eta 0:00:01\r\u001b[K     |█████████████████████████████▋  | 307kB 9.2MB/s eta 0:00:01\r\u001b[K     |██████████████████████████████▋ | 317kB 9.2MB/s eta 0:00:01\r\u001b[K     |███████████████████████████████▋| 327kB 9.2MB/s eta 0:00:01\r\u001b[K     |████████████████████████████████| 337kB 9.2MB/s \n",
            "\u001b[?25hCollecting bpemb>=0.3.2\n",
            "  Downloading https://files.pythonhosted.org/packages/91/77/3f0f53856e86af32b1d3c86652815277f7b5f880002584eb30db115b6df5/bpemb-0.3.2-py3-none-any.whl\n",
            "Collecting transformers>=3.0.0\n",
            "\u001b[?25l  Downloading https://files.pythonhosted.org/packages/19/22/aff234f4a841f8999e68a7a94bdd4b60b4cebcfeca5d67d61cd08c9179de/transformers-3.3.1-py3-none-any.whl (1.1MB)\n",
            "\u001b[K     |████████████████████████████████| 1.1MB 19.3MB/s \n",
            "\u001b[?25hCollecting konoha<5.0.0,>=4.0.0\n",
            "  Downloading https://files.pythonhosted.org/packages/ea/01/47358efec5396fc80f98273c42cbdfe7aab056252b07884ffcc0f118978f/konoha-4.6.2-py3-none-any.whl\n",
            "Collecting sentencepiece!=0.1.92\n",
            "\u001b[?25l  Downloading https://files.pythonhosted.org/packages/d4/a4/d0a884c4300004a78cca907a6ff9a5e9fe4f090f5d95ab341c53d28cbc58/sentencepiece-0.1.91-cp36-cp36m-manylinux1_x86_64.whl (1.1MB)\n",
            "\u001b[K     |████████████████████████████████| 1.1MB 47.3MB/s \n",
            "\u001b[?25hRequirement already satisfied: regex in /usr/local/lib/python3.6/dist-packages (from flair) (2019.12.20)\n",
            "Collecting pytest>=5.3.2\n",
            "\u001b[?25l  Downloading https://files.pythonhosted.org/packages/d6/36/9e022b76a3ac440e1d750c64fa6152469f988efe0c568b945e396e2693b5/pytest-6.1.1-py3-none-any.whl (272kB)\n",
            "\u001b[K     |████████████████████████████████| 276kB 47.4MB/s \n",
            "\u001b[?25hCollecting sqlitedict>=1.6.0\n",
            "  Downloading https://files.pythonhosted.org/packages/5c/2d/b1d99e9ad157dd7de9cd0d36a8a5876b13b55e4b75f7498bc96035fb4e96/sqlitedict-1.7.0.tar.gz\n",
            "Collecting janome\n",
            "\u001b[?25l  Downloading https://files.pythonhosted.org/packages/a8/63/98858cbead27df7536c7e300c169da0999e9704d02220dc6700b804eeff0/Janome-0.4.1-py2.py3-none-any.whl (19.7MB)\n",
            "\u001b[K     |████████████████████████████████| 19.7MB 5.3MB/s \n",
            "\u001b[?25hRequirement already satisfied: tqdm>=4.26.0 in /usr/local/lib/python3.6/dist-packages (from flair) (4.41.1)\n",
            "Collecting deprecated>=1.2.4\n",
            "  Downloading https://files.pythonhosted.org/packages/76/a1/05d7f62f956d77b23a640efc650f80ce24483aa2f85a09c03fb64f49e879/Deprecated-1.2.10-py2.py3-none-any.whl\n",
            "Requirement already satisfied: gdown in /usr/local/lib/python3.6/dist-packages (from flair) (3.6.4)\n",
            "Requirement already satisfied: tabulate in /usr/local/lib/python3.6/dist-packages (from flair) (0.8.7)\n",
            "Requirement already satisfied: torch>=1.1.0 in /usr/local/lib/python3.6/dist-packages (from flair) (1.6.0+cu101)\n",
            "Requirement already satisfied: hyperopt>=0.1.1 in /usr/local/lib/python3.6/dist-packages (from flair) (0.1.2)\n",
            "Requirement already satisfied: matplotlib>=2.2.3 in /usr/local/lib/python3.6/dist-packages (from flair) (3.2.2)\n",
            "Collecting ftfy\n",
            "\u001b[?25l  Downloading https://files.pythonhosted.org/packages/ff/e2/3b51c53dffb1e52d9210ebc01f1fb9f2f6eba9b3201fa971fd3946643c71/ftfy-5.8.tar.gz (64kB)\n",
            "\u001b[K     |████████████████████████████████| 71kB 9.3MB/s \n",
            "\u001b[?25hCollecting mpld3==0.3\n",
            "\u001b[?25l  Downloading https://files.pythonhosted.org/packages/91/95/a52d3a83d0a29ba0d6898f6727e9858fe7a43f6c2ce81a5fe7e05f0f4912/mpld3-0.3.tar.gz (788kB)\n",
            "\u001b[K     |████████████████████████████████| 798kB 45.0MB/s \n",
            "\u001b[?25hRequirement already satisfied: lxml in /usr/local/lib/python3.6/dist-packages (from flair) (4.2.6)\n",
            "Requirement already satisfied: gensim>=3.4.0 in /usr/local/lib/python3.6/dist-packages (from flair) (3.6.0)\n",
            "Collecting segtok>=1.5.7\n",
            "  Downloading https://files.pythonhosted.org/packages/41/08/582dab5f4b1d5ca23bc6927b4bb977c8ff7f3a87a3b98844ef833e2f5623/segtok-1.5.10.tar.gz\n",
            "Requirement already satisfied: scikit-learn>=0.21.3 in /usr/local/lib/python3.6/dist-packages (from flair) (0.22.2.post1)\n",
            "Collecting langdetect\n",
            "\u001b[?25l  Downloading https://files.pythonhosted.org/packages/56/a3/8407c1e62d5980188b4acc45ef3d94b933d14a2ebc9ef3505f22cf772570/langdetect-1.0.8.tar.gz (981kB)\n",
            "\u001b[K     |████████████████████████████████| 983kB 43.3MB/s \n",
            "\u001b[?25hRequirement already satisfied: python-dateutil>=2.6.1 in /usr/local/lib/python3.6/dist-packages (from flair) (2.8.1)\n",
            "Requirement already satisfied: numpy in /usr/local/lib/python3.6/dist-packages (from bpemb>=0.3.2->flair) (1.18.5)\n",
            "Requirement already satisfied: requests in /usr/local/lib/python3.6/dist-packages (from bpemb>=0.3.2->flair) (2.23.0)\n",
            "Requirement already satisfied: packaging in /usr/local/lib/python3.6/dist-packages (from transformers>=3.0.0->flair) (20.4)\n",
            "Collecting sacremoses\n",
            "\u001b[?25l  Downloading https://files.pythonhosted.org/packages/7d/34/09d19aff26edcc8eb2a01bed8e98f13a1537005d31e95233fd48216eed10/sacremoses-0.0.43.tar.gz (883kB)\n",
            "\u001b[K     |████████████████████████████████| 890kB 46.7MB/s \n",
            "\u001b[?25hRequirement already satisfied: filelock in /usr/local/lib/python3.6/dist-packages (from transformers>=3.0.0->flair) (3.0.12)\n",
            "Requirement already satisfied: dataclasses; python_version < \"3.7\" in /usr/local/lib/python3.6/dist-packages (from transformers>=3.0.0->flair) (0.7)\n",
            "Collecting tokenizers==0.8.1.rc2\n",
            "\u001b[?25l  Downloading https://files.pythonhosted.org/packages/80/83/8b9fccb9e48eeb575ee19179e2bdde0ee9a1904f97de5f02d19016b8804f/tokenizers-0.8.1rc2-cp36-cp36m-manylinux1_x86_64.whl (3.0MB)\n",
            "\u001b[K     |████████████████████████████████| 3.0MB 43.3MB/s \n",
            "\u001b[?25hCollecting overrides==3.0.0\n",
            "  Downloading https://files.pythonhosted.org/packages/42/8d/caa729f809ecdf8e76fac3c1ff7d3f0b72c398c9dd8a6919927a30a873b3/overrides-3.0.0.tar.gz\n",
            "Requirement already satisfied: importlib-metadata>=0.12; python_version < \"3.8\" in /usr/local/lib/python3.6/dist-packages (from pytest>=5.3.2->flair) (2.0.0)\n",
            "Requirement already satisfied: attrs>=17.4.0 in /usr/local/lib/python3.6/dist-packages (from pytest>=5.3.2->flair) (20.2.0)\n",
            "Requirement already satisfied: py>=1.8.2 in /usr/local/lib/python3.6/dist-packages (from pytest>=5.3.2->flair) (1.9.0)\n",
            "Collecting pluggy<1.0,>=0.12\n",
            "  Downloading https://files.pythonhosted.org/packages/a0/28/85c7aa31b80d150b772fbe4a229487bc6644da9ccb7e427dd8cc60cb8a62/pluggy-0.13.1-py2.py3-none-any.whl\n",
            "Requirement already satisfied: iniconfig in /usr/local/lib/python3.6/dist-packages (from pytest>=5.3.2->flair) (1.0.1)\n",
            "Requirement already satisfied: toml in /usr/local/lib/python3.6/dist-packages (from pytest>=5.3.2->flair) (0.10.1)\n",
            "Requirement already satisfied: wrapt<2,>=1.10 in /usr/local/lib/python3.6/dist-packages (from deprecated>=1.2.4->flair) (1.12.1)\n",
            "Requirement already satisfied: six in /usr/local/lib/python3.6/dist-packages (from gdown->flair) (1.15.0)\n",
            "Requirement already satisfied: future in /usr/local/lib/python3.6/dist-packages (from torch>=1.1.0->flair) (0.16.0)\n",
            "Requirement already satisfied: pymongo in /usr/local/lib/python3.6/dist-packages (from hyperopt>=0.1.1->flair) (3.11.0)\n",
            "Requirement already satisfied: scipy in /usr/local/lib/python3.6/dist-packages (from hyperopt>=0.1.1->flair) (1.4.1)\n",
            "Requirement already satisfied: networkx in /usr/local/lib/python3.6/dist-packages (from hyperopt>=0.1.1->flair) (2.5)\n",
            "Requirement already satisfied: kiwisolver>=1.0.1 in /usr/local/lib/python3.6/dist-packages (from matplotlib>=2.2.3->flair) (1.2.0)\n",
            "Requirement already satisfied: pyparsing!=2.0.4,!=2.1.2,!=2.1.6,>=2.0.1 in /usr/local/lib/python3.6/dist-packages (from matplotlib>=2.2.3->flair) (2.4.7)\n",
            "Requirement already satisfied: cycler>=0.10 in /usr/local/lib/python3.6/dist-packages (from matplotlib>=2.2.3->flair) (0.10.0)\n",
            "Requirement already satisfied: wcwidth in /usr/local/lib/python3.6/dist-packages (from ftfy->flair) (0.2.5)\n",
            "Requirement already satisfied: smart-open>=1.2.1 in /usr/local/lib/python3.6/dist-packages (from gensim>=3.4.0->flair) (2.2.0)\n",
            "Requirement already satisfied: joblib>=0.11 in /usr/local/lib/python3.6/dist-packages (from scikit-learn>=0.21.3->flair) (0.16.0)\n",
            "Requirement already satisfied: chardet<4,>=3.0.2 in /usr/local/lib/python3.6/dist-packages (from requests->bpemb>=0.3.2->flair) (3.0.4)\n",
            "Requirement already satisfied: urllib3!=1.25.0,!=1.25.1,<1.26,>=1.21.1 in /usr/local/lib/python3.6/dist-packages (from requests->bpemb>=0.3.2->flair) (1.24.3)\n",
            "Requirement already satisfied: idna<3,>=2.5 in /usr/local/lib/python3.6/dist-packages (from requests->bpemb>=0.3.2->flair) (2.10)\n",
            "Requirement already satisfied: certifi>=2017.4.17 in /usr/local/lib/python3.6/dist-packages (from requests->bpemb>=0.3.2->flair) (2020.6.20)\n",
            "Requirement already satisfied: click in /usr/local/lib/python3.6/dist-packages (from sacremoses->transformers>=3.0.0->flair) (7.1.2)\n",
            "Requirement already satisfied: zipp>=0.5 in /usr/local/lib/python3.6/dist-packages (from importlib-metadata>=0.12; python_version < \"3.8\"->pytest>=5.3.2->flair) (3.2.0)\n",
            "Requirement already satisfied: decorator>=4.3.0 in /usr/local/lib/python3.6/dist-packages (from networkx->hyperopt>=0.1.1->flair) (4.4.2)\n",
            "Building wheels for collected packages: sqlitedict, ftfy, mpld3, segtok, langdetect, sacremoses, overrides\n",
            "  Building wheel for sqlitedict (setup.py) ... \u001b[?25l\u001b[?25hdone\n",
            "  Created wheel for sqlitedict: filename=sqlitedict-1.7.0-cp36-none-any.whl size=14377 sha256=cf7a67d5869b3373880014af699b2286394d8ec5f9dc109bae117201f8cd2a02\n",
            "  Stored in directory: /root/.cache/pip/wheels/cf/c6/4f/2c64a43f041415eb8b8740bd80e15e92f0d46c5e464d8e4b9b\n",
            "  Building wheel for ftfy (setup.py) ... \u001b[?25l\u001b[?25hdone\n",
            "  Created wheel for ftfy: filename=ftfy-5.8-cp36-none-any.whl size=45612 sha256=d9c02c80759518a4e4963ee18e901921dbd894365bf91581a794a71df9e487a7\n",
            "  Stored in directory: /root/.cache/pip/wheels/ba/c0/ef/f28c4da5ac84a4e06ac256ca9182fc34fa57fefffdbc68425b\n",
            "  Building wheel for mpld3 (setup.py) ... \u001b[?25l\u001b[?25hdone\n",
            "  Created wheel for mpld3: filename=mpld3-0.3-cp36-none-any.whl size=116677 sha256=19001853a42a015d17c75ea60a6c9b4fb899e2a2b3b716cf016ff2bb4b63fded\n",
            "  Stored in directory: /root/.cache/pip/wheels/c0/47/fb/8a64f89aecfe0059830479308ad42d62e898a3e3cefdf6ba28\n",
            "  Building wheel for segtok (setup.py) ... \u001b[?25l\u001b[?25hdone\n",
            "  Created wheel for segtok: filename=segtok-1.5.10-cp36-none-any.whl size=25021 sha256=22869a043647fabf15405d2650cacfe1956f7e2ce1192f6c88b9e64045638aa1\n",
            "  Stored in directory: /root/.cache/pip/wheels/b4/39/f6/9ca1c5cabde964d728023b5751c3a206a5c8cc40252321fb6b\n",
            "  Building wheel for langdetect (setup.py) ... \u001b[?25l\u001b[?25hdone\n",
            "  Created wheel for langdetect: filename=langdetect-1.0.8-cp36-none-any.whl size=993195 sha256=9b1123d66c1a5946a01cf4c9f4b538da65a5375243d4940392f020ef431754f9\n",
            "  Stored in directory: /root/.cache/pip/wheels/8d/b3/aa/6d99de9f3841d7d3d40a60ea06e6d669e8e5012e6c8b947a57\n",
            "  Building wheel for sacremoses (setup.py) ... \u001b[?25l\u001b[?25hdone\n",
            "  Created wheel for sacremoses: filename=sacremoses-0.0.43-cp36-none-any.whl size=893257 sha256=ff708730a536a14182e6521f4e839e45c79136d33ff6c030d7222ff8f26d613b\n",
            "  Stored in directory: /root/.cache/pip/wheels/29/3c/fd/7ce5c3f0666dab31a50123635e6fb5e19ceb42ce38d4e58f45\n",
            "  Building wheel for overrides (setup.py) ... \u001b[?25l\u001b[?25hdone\n",
            "  Created wheel for overrides: filename=overrides-3.0.0-cp36-none-any.whl size=5669 sha256=f640bc91c7bc94107238a82ade043fb8cd33a441468727b4fb82468181e9dc1e\n",
            "  Stored in directory: /root/.cache/pip/wheels/6f/1b/ec/6c71a1eb823df7f850d956b2d8c50a6d49c191e1063d73b9be\n",
            "Successfully built sqlitedict ftfy mpld3 segtok langdetect sacremoses overrides\n",
            "\u001b[31mERROR: datascience 0.10.6 has requirement folium==0.2.1, but you'll have folium 0.8.3 which is incompatible.\u001b[0m\n",
            "Installing collected packages: sentencepiece, bpemb, sacremoses, tokenizers, transformers, overrides, konoha, pluggy, pytest, sqlitedict, janome, deprecated, ftfy, mpld3, segtok, langdetect, flair\n",
            "  Found existing installation: pluggy 0.7.1\n",
            "    Uninstalling pluggy-0.7.1:\n",
            "      Successfully uninstalled pluggy-0.7.1\n",
            "  Found existing installation: pytest 3.6.4\n",
            "    Uninstalling pytest-3.6.4:\n",
            "      Successfully uninstalled pytest-3.6.4\n",
            "Successfully installed bpemb-0.3.2 deprecated-1.2.10 flair-0.6.1 ftfy-5.8 janome-0.4.1 konoha-4.6.2 langdetect-1.0.8 mpld3-0.3 overrides-3.0.0 pluggy-0.13.1 pytest-6.1.1 sacremoses-0.0.43 segtok-1.5.10 sentencepiece-0.1.91 sqlitedict-1.7.0 tokenizers-0.8.1rc2 transformers-3.3.1\n"
          ],
          "name": "stdout"
        }
      ]
    },
    {
      "cell_type": "code",
      "metadata": {
        "id": "CX3INazSnGV5"
      },
      "source": [
        "# Load NLP Pkg\n",
        "import flair"
      ],
      "execution_count": 2,
      "outputs": []
    },
    {
      "cell_type": "code",
      "metadata": {
        "id": "qEpzjAJ7rhvu",
        "outputId": "6d0b5068-d565-40ef-8dc2-aa4c947eabbc",
        "colab": {
          "base_uri": "https://localhost:8080/",
          "height": 521
        }
      },
      "source": [
        "# Methods/Attrib\n",
        "dir(flair)"
      ],
      "execution_count": 3,
      "outputs": [
        {
          "output_type": "execute_result",
          "data": {
            "text/plain": [
              "['AnnealOnPlateau',\n",
              " 'Path',\n",
              " '__builtins__',\n",
              " '__cached__',\n",
              " '__doc__',\n",
              " '__file__',\n",
              " '__loader__',\n",
              " '__name__',\n",
              " '__package__',\n",
              " '__path__',\n",
              " '__spec__',\n",
              " '__version__',\n",
              " 'cache_root',\n",
              " 'data',\n",
              " 'datasets',\n",
              " 'device',\n",
              " 'embedding_storage_mode',\n",
              " 'embeddings',\n",
              " 'file_utils',\n",
              " 'logger',\n",
              " 'logging',\n",
              " 'models',\n",
              " 'nn',\n",
              " 'optim',\n",
              " 'os',\n",
              " 'tokenization',\n",
              " 'torch',\n",
              " 'trainers',\n",
              " 'training_utils',\n",
              " 'visual']"
            ]
          },
          "metadata": {
            "tags": []
          },
          "execution_count": 3
        }
      ]
    },
    {
      "cell_type": "code",
      "metadata": {
        "id": "nTgo7vKRrlZO"
      },
      "source": [
        "# Load EDA Pkgs\n",
        "import pandas as pd \n",
        "import numpy as np"
      ],
      "execution_count": 4,
      "outputs": []
    },
    {
      "cell_type": "code",
      "metadata": {
        "id": "X9GPVPMor0tz"
      },
      "source": [
        "df = pd.read_csv(\"offensive_vs_non_offensive_mini_dataset.csv\")"
      ],
      "execution_count": 5,
      "outputs": []
    },
    {
      "cell_type": "code",
      "metadata": {
        "id": "HwOVSO7QsK2L",
        "outputId": "68c68f15-bc17-4468-df4a-867834cadfe5",
        "colab": {
          "base_uri": "https://localhost:8080/",
          "height": 195
        }
      },
      "source": [
        "df.head()"
      ],
      "execution_count": 6,
      "outputs": [
        {
          "output_type": "execute_result",
          "data": {
            "text/html": [
              "<div>\n",
              "<style scoped>\n",
              "    .dataframe tbody tr th:only-of-type {\n",
              "        vertical-align: middle;\n",
              "    }\n",
              "\n",
              "    .dataframe tbody tr th {\n",
              "        vertical-align: top;\n",
              "    }\n",
              "\n",
              "    .dataframe thead th {\n",
              "        text-align: right;\n",
              "    }\n",
              "</style>\n",
              "<table border=\"1\" class=\"dataframe\">\n",
              "  <thead>\n",
              "    <tr style=\"text-align: right;\">\n",
              "      <th></th>\n",
              "      <th>Unnamed: 0</th>\n",
              "      <th>clean_tweet</th>\n",
              "      <th>class</th>\n",
              "      <th>labels</th>\n",
              "    </tr>\n",
              "  </thead>\n",
              "  <tbody>\n",
              "    <tr>\n",
              "      <th>0</th>\n",
              "      <td>0</td>\n",
              "      <td>look at what you just said lls new era girl ...</td>\n",
              "      <td>1</td>\n",
              "      <td>offensive</td>\n",
              "    </tr>\n",
              "    <tr>\n",
              "      <th>1</th>\n",
              "      <td>1</td>\n",
              "      <td>driving the fucktardmobile  tranny slips and a...</td>\n",
              "      <td>1</td>\n",
              "      <td>offensive</td>\n",
              "    </tr>\n",
              "    <tr>\n",
              "      <th>2</th>\n",
              "      <td>2</td>\n",
              "      <td>if i ever put ma trust ina bitch  i will alwa...</td>\n",
              "      <td>1</td>\n",
              "      <td>offensive</td>\n",
              "    </tr>\n",
              "    <tr>\n",
              "      <th>3</th>\n",
              "      <td>3</td>\n",
              "      <td>stop twatching me bitch</td>\n",
              "      <td>1</td>\n",
              "      <td>offensive</td>\n",
              "    </tr>\n",
              "    <tr>\n",
              "      <th>4</th>\n",
              "      <td>4</td>\n",
              "      <td>you know bitches be mad when they be lik...</td>\n",
              "      <td>1</td>\n",
              "      <td>offensive</td>\n",
              "    </tr>\n",
              "  </tbody>\n",
              "</table>\n",
              "</div>"
            ],
            "text/plain": [
              "   Unnamed: 0  ...     labels\n",
              "0           0  ...  offensive\n",
              "1           1  ...  offensive\n",
              "2           2  ...  offensive\n",
              "3           3  ...  offensive\n",
              "4           4  ...  offensive\n",
              "\n",
              "[5 rows x 4 columns]"
            ]
          },
          "metadata": {
            "tags": []
          },
          "execution_count": 6
        }
      ]
    },
    {
      "cell_type": "code",
      "metadata": {
        "id": "rlE09WItsKvy",
        "outputId": "b10777e5-5878-4769-87f7-3c8d89decc12",
        "colab": {
          "base_uri": "https://localhost:8080/",
          "height": 67
        }
      },
      "source": [
        "# Check for value count\n",
        "df['class'].value_counts()"
      ],
      "execution_count": 7,
      "outputs": [
        {
          "output_type": "execute_result",
          "data": {
            "text/plain": [
              "1    3850\n",
              "0     821\n",
              "Name: class, dtype: int64"
            ]
          },
          "metadata": {
            "tags": []
          },
          "execution_count": 7
        }
      ]
    },
    {
      "cell_type": "code",
      "metadata": {
        "id": "cSDGJ9jksS7N"
      },
      "source": [
        "import seaborn as sns "
      ],
      "execution_count": 8,
      "outputs": []
    },
    {
      "cell_type": "code",
      "metadata": {
        "id": "es8RynursXaz",
        "outputId": "1f1bbfe3-13c6-45e3-9e4b-877e533f3fc6",
        "colab": {
          "base_uri": "https://localhost:8080/",
          "height": 351
        }
      },
      "source": [
        "sns.countplot(df['class'])"
      ],
      "execution_count": 9,
      "outputs": [
        {
          "output_type": "stream",
          "text": [
            "/usr/local/lib/python3.6/dist-packages/seaborn/_decorators.py:43: FutureWarning: Pass the following variable as a keyword arg: x. From version 0.12, the only valid positional argument will be `data`, and passing other arguments without an explicit keyword will result in an error or misinterpretation.\n",
            "  FutureWarning\n"
          ],
          "name": "stderr"
        },
        {
          "output_type": "execute_result",
          "data": {
            "text/plain": [
              "<matplotlib.axes._subplots.AxesSubplot at 0x7f52ed97eeb8>"
            ]
          },
          "metadata": {
            "tags": []
          },
          "execution_count": 9
        },
        {
          "output_type": "display_data",
          "data": {
            "image/png": "[encoded data removed]",
            "text/plain": [
              "<Figure size 432x288 with 1 Axes>"
            ]
          },
          "metadata": {
            "tags": [],
            "needs_background": "light"
          }
        }
      ]
    },
    {
      "cell_type": "code",
      "metadata": {
        "id": "v_k7hE5tsaHK",
        "outputId": "5860bccb-4d0d-487b-ab1c-9ee5d65cca2d",
        "colab": {
          "base_uri": "https://localhost:8080/",
          "height": 195
        }
      },
      "source": [
        "# Preparing Dataset\n",
        "# Using CSV\n",
        "df.head()"
      ],
      "execution_count": 10,
      "outputs": [
        {
          "output_type": "execute_result",
          "data": {
            "text/html": [
              "<div>\n",
              "<style scoped>\n",
              "    .dataframe tbody tr th:only-of-type {\n",
              "        vertical-align: middle;\n",
              "    }\n",
              "\n",
              "    .dataframe tbody tr th {\n",
              "        vertical-align: top;\n",
              "    }\n",
              "\n",
              "    .dataframe thead th {\n",
              "        text-align: right;\n",
              "    }\n",
              "</style>\n",
              "<table border=\"1\" class=\"dataframe\">\n",
              "  <thead>\n",
              "    <tr style=\"text-align: right;\">\n",
              "      <th></th>\n",
              "      <th>Unnamed: 0</th>\n",
              "      <th>clean_tweet</th>\n",
              "      <th>class</th>\n",
              "      <th>labels</th>\n",
              "    </tr>\n",
              "  </thead>\n",
              "  <tbody>\n",
              "    <tr>\n",
              "      <th>0</th>\n",
              "      <td>0</td>\n",
              "      <td>look at what you just said lls new era girl ...</td>\n",
              "      <td>1</td>\n",
              "      <td>offensive</td>\n",
              "    </tr>\n",
              "    <tr>\n",
              "      <th>1</th>\n",
              "      <td>1</td>\n",
              "      <td>driving the fucktardmobile  tranny slips and a...</td>\n",
              "      <td>1</td>\n",
              "      <td>offensive</td>\n",
              "    </tr>\n",
              "    <tr>\n",
              "      <th>2</th>\n",
              "      <td>2</td>\n",
              "      <td>if i ever put ma trust ina bitch  i will alwa...</td>\n",
              "      <td>1</td>\n",
              "      <td>offensive</td>\n",
              "    </tr>\n",
              "    <tr>\n",
              "      <th>3</th>\n",
              "      <td>3</td>\n",
              "      <td>stop twatching me bitch</td>\n",
              "      <td>1</td>\n",
              "      <td>offensive</td>\n",
              "    </tr>\n",
              "    <tr>\n",
              "      <th>4</th>\n",
              "      <td>4</td>\n",
              "      <td>you know bitches be mad when they be lik...</td>\n",
              "      <td>1</td>\n",
              "      <td>offensive</td>\n",
              "    </tr>\n",
              "  </tbody>\n",
              "</table>\n",
              "</div>"
            ],
            "text/plain": [
              "   Unnamed: 0  ...     labels\n",
              "0           0  ...  offensive\n",
              "1           1  ...  offensive\n",
              "2           2  ...  offensive\n",
              "3           3  ...  offensive\n",
              "4           4  ...  offensive\n",
              "\n",
              "[5 rows x 4 columns]"
            ]
          },
          "metadata": {
            "tags": []
          },
          "execution_count": 10
        }
      ]
    },
    {
      "cell_type": "code",
      "metadata": {
        "id": "kJSffYI4stSi",
        "outputId": "9d602451-eb24-4fa0-f5af-e1a4e42b1cff",
        "colab": {
          "base_uri": "https://localhost:8080/",
          "height": 34
        }
      },
      "source": [
        "df.columns"
      ],
      "execution_count": 11,
      "outputs": [
        {
          "output_type": "execute_result",
          "data": {
            "text/plain": [
              "Index(['Unnamed: 0', 'clean_tweet', 'class', 'labels'], dtype='object')"
            ]
          },
          "metadata": {
            "tags": []
          },
          "execution_count": 11
        }
      ]
    },
    {
      "cell_type": "code",
      "metadata": {
        "id": "Iodrnbmxsw2z"
      },
      "source": [
        "df1 = df[['clean_tweet','labels']]"
      ],
      "execution_count": 12,
      "outputs": []
    },
    {
      "cell_type": "code",
      "metadata": {
        "id": "sbwis_EGtBRQ"
      },
      "source": [
        "# Rename Columns\n",
        "df1.columns  = ['text','labels']"
      ],
      "execution_count": 14,
      "outputs": []
    },
    {
      "cell_type": "code",
      "metadata": {
        "id": "4jPsmYu6tD1q",
        "outputId": "7b24eb56-c3e6-4570-8e60-2e5d727092e1",
        "colab": {
          "base_uri": "https://localhost:8080/",
          "height": 402
        }
      },
      "source": [
        "df1"
      ],
      "execution_count": 15,
      "outputs": [
        {
          "output_type": "execute_result",
          "data": {
            "text/html": [
              "<div>\n",
              "<style scoped>\n",
              "    .dataframe tbody tr th:only-of-type {\n",
              "        vertical-align: middle;\n",
              "    }\n",
              "\n",
              "    .dataframe tbody tr th {\n",
              "        vertical-align: top;\n",
              "    }\n",
              "\n",
              "    .dataframe thead th {\n",
              "        text-align: right;\n",
              "    }\n",
              "</style>\n",
              "<table border=\"1\" class=\"dataframe\">\n",
              "  <thead>\n",
              "    <tr style=\"text-align: right;\">\n",
              "      <th></th>\n",
              "      <th>text</th>\n",
              "      <th>labels</th>\n",
              "    </tr>\n",
              "  </thead>\n",
              "  <tbody>\n",
              "    <tr>\n",
              "      <th>0</th>\n",
              "      <td>look at what you just said lls new era girl ...</td>\n",
              "      <td>offensive</td>\n",
              "    </tr>\n",
              "    <tr>\n",
              "      <th>1</th>\n",
              "      <td>driving the fucktardmobile  tranny slips and a...</td>\n",
              "      <td>offensive</td>\n",
              "    </tr>\n",
              "    <tr>\n",
              "      <th>2</th>\n",
              "      <td>if i ever put ma trust ina bitch  i will alwa...</td>\n",
              "      <td>offensive</td>\n",
              "    </tr>\n",
              "    <tr>\n",
              "      <th>3</th>\n",
              "      <td>stop twatching me bitch</td>\n",
              "      <td>offensive</td>\n",
              "    </tr>\n",
              "    <tr>\n",
              "      <th>4</th>\n",
              "      <td>you know bitches be mad when they be lik...</td>\n",
              "      <td>offensive</td>\n",
              "    </tr>\n",
              "    <tr>\n",
              "      <th>...</th>\n",
              "      <td>...</td>\n",
              "      <td>...</td>\n",
              "    </tr>\n",
              "    <tr>\n",
              "      <th>4666</th>\n",
              "      <td>this bitch gonna steal a police uniform and th...</td>\n",
              "      <td>offensive</td>\n",
              "    </tr>\n",
              "    <tr>\n",
              "      <th>4667</th>\n",
              "      <td>if california chrome does not go off at even m...</td>\n",
              "      <td>offensive</td>\n",
              "    </tr>\n",
              "    <tr>\n",
              "      <th>4668</th>\n",
              "      <td>i do not love you hoes</td>\n",
              "      <td>offensive</td>\n",
              "    </tr>\n",
              "    <tr>\n",
              "      <th>4669</th>\n",
              "      <td>lmaoooo     white people lmaoo     filth  ...</td>\n",
              "      <td>offensive</td>\n",
              "    </tr>\n",
              "    <tr>\n",
              "      <th>4670</th>\n",
              "      <td>if you really wanna please your man seeing...</td>\n",
              "      <td>offensive</td>\n",
              "    </tr>\n",
              "  </tbody>\n",
              "</table>\n",
              "<p>4671 rows × 2 columns</p>\n",
              "</div>"
            ],
            "text/plain": [
              "                                                   text     labels\n",
              "0       look at what you just said lls new era girl ...  offensive\n",
              "1     driving the fucktardmobile  tranny slips and a...  offensive\n",
              "2      if i ever put ma trust ina bitch  i will alwa...  offensive\n",
              "3                               stop twatching me bitch  offensive\n",
              "4           you know bitches be mad when they be lik...  offensive\n",
              "...                                                 ...        ...\n",
              "4666  this bitch gonna steal a police uniform and th...  offensive\n",
              "4667  if california chrome does not go off at even m...  offensive\n",
              "4668                             i do not love you hoes  offensive\n",
              "4669      lmaoooo     white people lmaoo     filth  ...  offensive\n",
              "4670      if you really wanna please your man seeing...  offensive\n",
              "\n",
              "[4671 rows x 2 columns]"
            ]
          },
          "metadata": {
            "tags": []
          },
          "execution_count": 15
        }
      ]
    },
    {
      "cell_type": "code",
      "metadata": {
        "id": "GPKFNbHAtM94",
        "outputId": "42e01649-94aa-45cf-8e77-82ed6dd323f7",
        "colab": {
          "base_uri": "https://localhost:8080/",
          "height": 195
        }
      },
      "source": [
        "# Prepare for FastText Format\n",
        "#__label__ <class> <text>\n",
        "df1.head()"
      ],
      "execution_count": 16,
      "outputs": [
        {
          "output_type": "execute_result",
          "data": {
            "text/html": [
              "<div>\n",
              "<style scoped>\n",
              "    .dataframe tbody tr th:only-of-type {\n",
              "        vertical-align: middle;\n",
              "    }\n",
              "\n",
              "    .dataframe tbody tr th {\n",
              "        vertical-align: top;\n",
              "    }\n",
              "\n",
              "    .dataframe thead th {\n",
              "        text-align: right;\n",
              "    }\n",
              "</style>\n",
              "<table border=\"1\" class=\"dataframe\">\n",
              "  <thead>\n",
              "    <tr style=\"text-align: right;\">\n",
              "      <th></th>\n",
              "      <th>text</th>\n",
              "      <th>labels</th>\n",
              "    </tr>\n",
              "  </thead>\n",
              "  <tbody>\n",
              "    <tr>\n",
              "      <th>0</th>\n",
              "      <td>look at what you just said lls new era girl ...</td>\n",
              "      <td>offensive</td>\n",
              "    </tr>\n",
              "    <tr>\n",
              "      <th>1</th>\n",
              "      <td>driving the fucktardmobile  tranny slips and a...</td>\n",
              "      <td>offensive</td>\n",
              "    </tr>\n",
              "    <tr>\n",
              "      <th>2</th>\n",
              "      <td>if i ever put ma trust ina bitch  i will alwa...</td>\n",
              "      <td>offensive</td>\n",
              "    </tr>\n",
              "    <tr>\n",
              "      <th>3</th>\n",
              "      <td>stop twatching me bitch</td>\n",
              "      <td>offensive</td>\n",
              "    </tr>\n",
              "    <tr>\n",
              "      <th>4</th>\n",
              "      <td>you know bitches be mad when they be lik...</td>\n",
              "      <td>offensive</td>\n",
              "    </tr>\n",
              "  </tbody>\n",
              "</table>\n",
              "</div>"
            ],
            "text/plain": [
              "                                                text     labels\n",
              "0    look at what you just said lls new era girl ...  offensive\n",
              "1  driving the fucktardmobile  tranny slips and a...  offensive\n",
              "2   if i ever put ma trust ina bitch  i will alwa...  offensive\n",
              "3                            stop twatching me bitch  offensive\n",
              "4        you know bitches be mad when they be lik...  offensive"
            ]
          },
          "metadata": {
            "tags": []
          },
          "execution_count": 16
        }
      ]
    },
    {
      "cell_type": "code",
      "metadata": {
        "id": "OZLDuTkYtojX"
      },
      "source": [
        "# For FastText\n",
        "df_fst = df1.copy()"
      ],
      "execution_count": 17,
      "outputs": []
    },
    {
      "cell_type": "code",
      "metadata": {
        "id": "sbC4JXBltwE7",
        "outputId": "39977508-1a34-4ce4-f7ed-675f13e452f4",
        "colab": {
          "base_uri": "https://localhost:8080/",
          "height": 195
        }
      },
      "source": [
        "df_fst.head()"
      ],
      "execution_count": 18,
      "outputs": [
        {
          "output_type": "execute_result",
          "data": {
            "text/html": [
              "<div>\n",
              "<style scoped>\n",
              "    .dataframe tbody tr th:only-of-type {\n",
              "        vertical-align: middle;\n",
              "    }\n",
              "\n",
              "    .dataframe tbody tr th {\n",
              "        vertical-align: top;\n",
              "    }\n",
              "\n",
              "    .dataframe thead th {\n",
              "        text-align: right;\n",
              "    }\n",
              "</style>\n",
              "<table border=\"1\" class=\"dataframe\">\n",
              "  <thead>\n",
              "    <tr style=\"text-align: right;\">\n",
              "      <th></th>\n",
              "      <th>text</th>\n",
              "      <th>labels</th>\n",
              "    </tr>\n",
              "  </thead>\n",
              "  <tbody>\n",
              "    <tr>\n",
              "      <th>0</th>\n",
              "      <td>look at what you just said lls new era girl ...</td>\n",
              "      <td>offensive</td>\n",
              "    </tr>\n",
              "    <tr>\n",
              "      <th>1</th>\n",
              "      <td>driving the fucktardmobile  tranny slips and a...</td>\n",
              "      <td>offensive</td>\n",
              "    </tr>\n",
              "    <tr>\n",
              "      <th>2</th>\n",
              "      <td>if i ever put ma trust ina bitch  i will alwa...</td>\n",
              "      <td>offensive</td>\n",
              "    </tr>\n",
              "    <tr>\n",
              "      <th>3</th>\n",
              "      <td>stop twatching me bitch</td>\n",
              "      <td>offensive</td>\n",
              "    </tr>\n",
              "    <tr>\n",
              "      <th>4</th>\n",
              "      <td>you know bitches be mad when they be lik...</td>\n",
              "      <td>offensive</td>\n",
              "    </tr>\n",
              "  </tbody>\n",
              "</table>\n",
              "</div>"
            ],
            "text/plain": [
              "                                                text     labels\n",
              "0    look at what you just said lls new era girl ...  offensive\n",
              "1  driving the fucktardmobile  tranny slips and a...  offensive\n",
              "2   if i ever put ma trust ina bitch  i will alwa...  offensive\n",
              "3                            stop twatching me bitch  offensive\n",
              "4        you know bitches be mad when they be lik...  offensive"
            ]
          },
          "metadata": {
            "tags": []
          },
          "execution_count": 18
        }
      ]
    },
    {
      "cell_type": "code",
      "metadata": {
        "id": "YxcBj2c9ty7Y",
        "outputId": "400c0ed6-4685-4362-c624-208687cc3344",
        "colab": {
          "base_uri": "https://localhost:8080/",
          "height": 218
        }
      },
      "source": [
        "'__label__' + df_fst['labels'].astype(str)"
      ],
      "execution_count": 19,
      "outputs": [
        {
          "output_type": "execute_result",
          "data": {
            "text/plain": [
              "0       __label__offensive\n",
              "1       __label__offensive\n",
              "2       __label__offensive\n",
              "3       __label__offensive\n",
              "4       __label__offensive\n",
              "               ...        \n",
              "4666    __label__offensive\n",
              "4667    __label__offensive\n",
              "4668    __label__offensive\n",
              "4669    __label__offensive\n",
              "4670    __label__offensive\n",
              "Name: labels, Length: 4671, dtype: object"
            ]
          },
          "metadata": {
            "tags": []
          },
          "execution_count": 19
        }
      ]
    },
    {
      "cell_type": "code",
      "metadata": {
        "id": "lUN5LJzot-XN"
      },
      "source": [
        "df_fst['labels'] = '__label__' + df_fst['labels'].astype(str)"
      ],
      "execution_count": 20,
      "outputs": []
    },
    {
      "cell_type": "code",
      "metadata": {
        "id": "OkTVn2JsuETX"
      },
      "source": [
        "df_fst = df_fst[['labels','text']]"
      ],
      "execution_count": 22,
      "outputs": []
    },
    {
      "cell_type": "code",
      "metadata": {
        "id": "lb9HSr3HuFk6"
      },
      "source": [
        "### Spliting Dataset into 3\n",
        "### train,test,dev.csv\n",
        "#### 60,20,20"
      ],
      "execution_count": null,
      "outputs": []
    },
    {
      "cell_type": "code",
      "metadata": {
        "id": "3Jg7OpNJuWo8"
      },
      "source": [
        "# Using Numpy\n",
        "train,test,dev = np.split(df1,[int(.6*len(df1)),int(.8*len(df1))])"
      ],
      "execution_count": 24,
      "outputs": []
    },
    {
      "cell_type": "code",
      "metadata": {
        "id": "jCWh-Abbvde8",
        "outputId": "899955e0-4a5d-4e78-ca5f-bc9fde48b0e7",
        "colab": {
          "base_uri": "https://localhost:8080/",
          "height": 84
        }
      },
      "source": [
        "print(df1.shape)\n",
        "print(train.shape)\n",
        "print(test.shape)\n",
        "print(dev.shape)"
      ],
      "execution_count": 26,
      "outputs": [
        {
          "output_type": "stream",
          "text": [
            "(4671, 2)\n",
            "(2802, 2)\n",
            "(934, 2)\n",
            "(935, 2)\n"
          ],
          "name": "stdout"
        }
      ]
    },
    {
      "cell_type": "code",
      "metadata": {
        "id": "VyXXKL-lvfEF"
      },
      "source": [
        "# Create A Folder for the csv\n",
        "!mkdir -p data"
      ],
      "execution_count": 27,
      "outputs": []
    },
    {
      "cell_type": "code",
      "metadata": {
        "id": "vFurrfx-v5kK"
      },
      "source": [
        "train.to_csv(\"data/train.csv\")\n",
        "test.to_csv(\"data/test.csv\")\n",
        "dev.to_csv(\"data/dev.csv\")"
      ],
      "execution_count": 28,
      "outputs": []
    },
    {
      "cell_type": "code",
      "metadata": {
        "id": "M5fzoFL5wTJf",
        "outputId": "185ced86-d2f0-451d-fca3-db64db257e85",
        "colab": {
          "base_uri": "https://localhost:8080/",
          "height": 34
        }
      },
      "source": [
        "!ls data"
      ],
      "execution_count": 29,
      "outputs": [
        {
          "output_type": "stream",
          "text": [
            "dev.csv  test.csv  train.csv\n"
          ],
          "name": "stdout"
        }
      ]
    },
    {
      "cell_type": "code",
      "metadata": {
        "id": "khH2_b67wUug",
        "outputId": "5a05bfeb-ef30-4576-c437-16d7b1d67b22",
        "colab": {
          "base_uri": "https://localhost:8080/",
          "height": 402
        }
      },
      "source": [
        "df_fst"
      ],
      "execution_count": 30,
      "outputs": [
        {
          "output_type": "execute_result",
          "data": {
            "text/html": [
              "<div>\n",
              "<style scoped>\n",
              "    .dataframe tbody tr th:only-of-type {\n",
              "        vertical-align: middle;\n",
              "    }\n",
              "\n",
              "    .dataframe tbody tr th {\n",
              "        vertical-align: top;\n",
              "    }\n",
              "\n",
              "    .dataframe thead th {\n",
              "        text-align: right;\n",
              "    }\n",
              "</style>\n",
              "<table border=\"1\" class=\"dataframe\">\n",
              "  <thead>\n",
              "    <tr style=\"text-align: right;\">\n",
              "      <th></th>\n",
              "      <th>labels</th>\n",
              "      <th>text</th>\n",
              "    </tr>\n",
              "  </thead>\n",
              "  <tbody>\n",
              "    <tr>\n",
              "      <th>0</th>\n",
              "      <td>__label__offensive</td>\n",
              "      <td>look at what you just said lls new era girl ...</td>\n",
              "    </tr>\n",
              "    <tr>\n",
              "      <th>1</th>\n",
              "      <td>__label__offensive</td>\n",
              "      <td>driving the fucktardmobile  tranny slips and a...</td>\n",
              "    </tr>\n",
              "    <tr>\n",
              "      <th>2</th>\n",
              "      <td>__label__offensive</td>\n",
              "      <td>if i ever put ma trust ina bitch  i will alwa...</td>\n",
              "    </tr>\n",
              "    <tr>\n",
              "      <th>3</th>\n",
              "      <td>__label__offensive</td>\n",
              "      <td>stop twatching me bitch</td>\n",
              "    </tr>\n",
              "    <tr>\n",
              "      <th>4</th>\n",
              "      <td>__label__offensive</td>\n",
              "      <td>you know bitches be mad when they be lik...</td>\n",
              "    </tr>\n",
              "    <tr>\n",
              "      <th>...</th>\n",
              "      <td>...</td>\n",
              "      <td>...</td>\n",
              "    </tr>\n",
              "    <tr>\n",
              "      <th>4666</th>\n",
              "      <td>__label__offensive</td>\n",
              "      <td>this bitch gonna steal a police uniform and th...</td>\n",
              "    </tr>\n",
              "    <tr>\n",
              "      <th>4667</th>\n",
              "      <td>__label__offensive</td>\n",
              "      <td>if california chrome does not go off at even m...</td>\n",
              "    </tr>\n",
              "    <tr>\n",
              "      <th>4668</th>\n",
              "      <td>__label__offensive</td>\n",
              "      <td>i do not love you hoes</td>\n",
              "    </tr>\n",
              "    <tr>\n",
              "      <th>4669</th>\n",
              "      <td>__label__offensive</td>\n",
              "      <td>lmaoooo     white people lmaoo     filth  ...</td>\n",
              "    </tr>\n",
              "    <tr>\n",
              "      <th>4670</th>\n",
              "      <td>__label__offensive</td>\n",
              "      <td>if you really wanna please your man seeing...</td>\n",
              "    </tr>\n",
              "  </tbody>\n",
              "</table>\n",
              "<p>4671 rows × 2 columns</p>\n",
              "</div>"
            ],
            "text/plain": [
              "                  labels                                               text\n",
              "0     __label__offensive    look at what you just said lls new era girl ...\n",
              "1     __label__offensive  driving the fucktardmobile  tranny slips and a...\n",
              "2     __label__offensive   if i ever put ma trust ina bitch  i will alwa...\n",
              "3     __label__offensive                            stop twatching me bitch\n",
              "4     __label__offensive        you know bitches be mad when they be lik...\n",
              "...                  ...                                                ...\n",
              "4666  __label__offensive  this bitch gonna steal a police uniform and th...\n",
              "4667  __label__offensive  if california chrome does not go off at even m...\n",
              "4668  __label__offensive                             i do not love you hoes\n",
              "4669  __label__offensive      lmaoooo     white people lmaoo     filth  ...\n",
              "4670  __label__offensive      if you really wanna please your man seeing...\n",
              "\n",
              "[4671 rows x 2 columns]"
            ]
          },
          "metadata": {
            "tags": []
          },
          "execution_count": 30
        }
      ]
    },
    {
      "cell_type": "code",
      "metadata": {
        "id": "LECICwy1wa7u"
      },
      "source": [
        "# Spliting FastText Format Dataset into 3\n",
        "# Using Numpy\n",
        "train_fst,test_fst,dev_fst = np.split(df_fst,[int(.6*len(df_fst)),int(.8*len(df_fst))])"
      ],
      "execution_count": 31,
      "outputs": []
    },
    {
      "cell_type": "code",
      "metadata": {
        "id": "mXgEb27gw7sq"
      },
      "source": [
        "# Store in a  folder\n",
        "!mkdir -p data_fst"
      ],
      "execution_count": 32,
      "outputs": []
    },
    {
      "cell_type": "code",
      "metadata": {
        "id": "2zNATQvOw7mD"
      },
      "source": [
        "train_fst.to_csv(\"data_fst/train.csv\",sep='\\t',index=False,header=False)\n",
        "test_fst.to_csv(\"data_fst/test.csv\",sep='\\t',index=False,header=False)\n",
        "dev_fst.to_csv(\"data_fst/dev.csv\",sep='\\t',index=False,header=False)"
      ],
      "execution_count": 33,
      "outputs": []
    },
    {
      "cell_type": "code",
      "metadata": {
        "id": "HVVvqN5dx1zL",
        "outputId": "a7e508d2-2b1b-44af-c02e-10e91fd4876b",
        "colab": {
          "base_uri": "https://localhost:8080/",
          "height": 34
        }
      },
      "source": [
        "!ls data_fst"
      ],
      "execution_count": 34,
      "outputs": [
        {
          "output_type": "stream",
          "text": [
            "dev.csv  test.csv  train.csv\n"
          ],
          "name": "stdout"
        }
      ]
    },
    {
      "cell_type": "code",
      "metadata": {
        "id": "WQTsxgnzx37Y"
      },
      "source": [
        "### Building our Corpus\n",
        "# CSVClassificationCorpus\n",
        "# ClassificationCorpus"
      ],
      "execution_count": null,
      "outputs": []
    },
    {
      "cell_type": "code",
      "metadata": {
        "id": "zB1NEJgnyJue"
      },
      "source": [
        "from flair.datasets import ClassificationCorpus,CSVClassificationCorpus\n",
        "from flair.data import Corpus"
      ],
      "execution_count": 35,
      "outputs": []
    },
    {
      "cell_type": "code",
      "metadata": {
        "id": "oAyDkxccyJma",
        "outputId": "aa40072d-08a5-4af7-f952-11a34710de53",
        "colab": {
          "base_uri": "https://localhost:8080/",
          "height": 34
        }
      },
      "source": [
        "# For CSV\n",
        "df1.columns"
      ],
      "execution_count": 36,
      "outputs": [
        {
          "output_type": "execute_result",
          "data": {
            "text/plain": [
              "Index(['text', 'labels'], dtype='object')"
            ]
          },
          "metadata": {
            "tags": []
          },
          "execution_count": 36
        }
      ]
    },
    {
      "cell_type": "markdown",
      "metadata": {
        "id": "TYlkvnp86ExU"
      },
      "source": [
        ""
      ]
    },
    {
      "cell_type": "code",
      "metadata": {
        "id": "ux1Ak4mGyhEI"
      },
      "source": [
        "# Create Column Mapping to show which column is for label and text\n",
        "column_name_map = {2:\"label_topic\",1:\"text\"}\n"
      ],
      "execution_count": 55,
      "outputs": []
    },
    {
      "cell_type": "code",
      "metadata": {
        "id": "an-PRJcgzKD5"
      },
      "source": [
        "# Location for CSV\n",
        "data_folder = 'data/'"
      ],
      "execution_count": 39,
      "outputs": []
    },
    {
      "cell_type": "code",
      "metadata": {
        "id": "mZE17Kd2yzKj",
        "outputId": "654e66d0-b754-4689-a7d0-3bad10b5e7dd",
        "colab": {
          "base_uri": "https://localhost:8080/",
          "height": 84
        }
      },
      "source": [
        "# Create Corpus For CSV\n",
        "corpus_csv: Corpus = CSVClassificationCorpus(data_folder,column_name_map=column_name_map,skip_header=True,delimiter=',')"
      ],
      "execution_count": 56,
      "outputs": [
        {
          "output_type": "stream",
          "text": [
            "2020-10-04 13:59:26,410 Reading data from data\n",
            "2020-10-04 13:59:26,414 Train: data/train.csv\n",
            "2020-10-04 13:59:26,416 Dev: data/dev.csv\n",
            "2020-10-04 13:59:26,417 Test: data/test.csv\n"
          ],
          "name": "stdout"
        }
      ]
    },
    {
      "cell_type": "code",
      "metadata": {
        "id": "4DM-Naaszvc-"
      },
      "source": [
        "# Method 2 Using FastText Format\n",
        "data_folder_fst = 'data_fst/'"
      ],
      "execution_count": 41,
      "outputs": []
    },
    {
      "cell_type": "code",
      "metadata": {
        "id": "qlK4Acs4zvSD",
        "outputId": "5f2a4cee-4815-451c-cf1f-726c02251fbc",
        "colab": {
          "base_uri": "https://localhost:8080/",
          "height": 84
        }
      },
      "source": [
        "corpus_fst: Corpus = ClassificationCorpus(data_folder_fst)"
      ],
      "execution_count": 42,
      "outputs": [
        {
          "output_type": "stream",
          "text": [
            "2020-10-04 13:32:54,135 Reading data from data_fst\n",
            "2020-10-04 13:32:54,137 Train: data_fst/train.csv\n",
            "2020-10-04 13:32:54,138 Dev: data_fst/dev.csv\n",
            "2020-10-04 13:32:54,139 Test: data_fst/test.csv\n"
          ],
          "name": "stdout"
        }
      ]
    },
    {
      "cell_type": "code",
      "metadata": {
        "id": "tLtzWVj20Kww",
        "outputId": "de817779-4227-4202-9df3-93ee5b28fd92",
        "colab": {
          "base_uri": "https://localhost:8080/",
          "height": 87
        }
      },
      "source": [
        "# Creating the Label Diction For CSV\n",
        "label_dict_csv = corpus_csv.make_label_dictionary()"
      ],
      "execution_count": 57,
      "outputs": [
        {
          "output_type": "stream",
          "text": [
            "2020-10-04 13:59:43,582 Computing label dictionary. Progress:\n"
          ],
          "name": "stdout"
        },
        {
          "output_type": "stream",
          "text": [
            "100%|██████████| 3736/3736 [00:02<00:00, 1383.38it/s]"
          ],
          "name": "stderr"
        },
        {
          "output_type": "stream",
          "text": [
            "2020-10-04 13:59:46,550 [b'offensive', b'non_offensive']\n"
          ],
          "name": "stdout"
        },
        {
          "output_type": "stream",
          "text": [
            "\n"
          ],
          "name": "stderr"
        }
      ]
    },
    {
      "cell_type": "code",
      "metadata": {
        "id": "kx8UnsOK0bmT",
        "outputId": "2b93a0e1-1f5d-4a4c-bdf0-980859b5e35c",
        "colab": {
          "base_uri": "https://localhost:8080/",
          "height": 87
        }
      },
      "source": [
        "# Creating the Label Diction For FastText\n",
        "label_dict_fst = corpus_fst.make_label_dictionary()"
      ],
      "execution_count": 44,
      "outputs": [
        {
          "output_type": "stream",
          "text": [
            "2020-10-04 13:34:57,415 Computing label dictionary. Progress:\n"
          ],
          "name": "stdout"
        },
        {
          "output_type": "stream",
          "text": [
            "100%|██████████| 3733/3733 [00:02<00:00, 1827.83it/s]"
          ],
          "name": "stderr"
        },
        {
          "output_type": "stream",
          "text": [
            "2020-10-04 13:34:59,588 [b'offensive', b'non_offensive']\n"
          ],
          "name": "stdout"
        },
        {
          "output_type": "stream",
          "text": [
            "\n"
          ],
          "name": "stderr"
        }
      ]
    },
    {
      "cell_type": "code",
      "metadata": {
        "id": "uf-z-NpR0or1"
      },
      "source": [
        "# Working with the Word Embeddings\n",
        "from flair.embeddings import FlairEmbeddings,WordEmbeddings,StackedEmbeddings,DocumentLSTMEmbeddings,DocumentRNNEmbeddings\n"
      ],
      "execution_count": 45,
      "outputs": []
    },
    {
      "cell_type": "code",
      "metadata": {
        "id": "zR4yvM4n1ER9",
        "outputId": "b8f2ee64-6ea8-426d-d0ee-5a95959a25d5",
        "colab": {
          "base_uri": "https://localhost:8080/",
          "height": 171
        }
      },
      "source": [
        "# Create our WEmbeddings\n",
        "word_embeddings = [FlairEmbeddings('news-forward-fast'),FlairEmbeddings('news-backward-fast')]"
      ],
      "execution_count": 46,
      "outputs": [
        {
          "output_type": "stream",
          "text": [
            "2020-10-04 13:40:09,332 https://flair.informatik.hu-berlin.de/resources/embeddings/flair/lm-news-english-forward-1024-v0.2rc.pt not found in cache, downloading to /tmp/tmpoq0qzh98\n"
          ],
          "name": "stdout"
        },
        {
          "output_type": "stream",
          "text": [
            "100%|██████████| 19689779/19689779 [00:00<00:00, 37035937.62B/s]"
          ],
          "name": "stderr"
        },
        {
          "output_type": "stream",
          "text": [
            "2020-10-04 13:40:09,930 copying /tmp/tmpoq0qzh98 to cache at /root/.flair/embeddings/lm-news-english-forward-1024-v0.2rc.pt\n",
            "2020-10-04 13:40:09,977 removing temp file /tmp/tmpoq0qzh98\n"
          ],
          "name": "stdout"
        },
        {
          "output_type": "stream",
          "text": [
            "\n"
          ],
          "name": "stderr"
        },
        {
          "output_type": "stream",
          "text": [
            "2020-10-04 13:40:10,619 https://flair.informatik.hu-berlin.de/resources/embeddings/flair/lm-news-english-backward-1024-v0.2rc.pt not found in cache, downloading to /tmp/tmpr4dnpuah\n"
          ],
          "name": "stdout"
        },
        {
          "output_type": "stream",
          "text": [
            "100%|██████████| 19689779/19689779 [00:00<00:00, 36642750.83B/s]"
          ],
          "name": "stderr"
        },
        {
          "output_type": "stream",
          "text": [
            "2020-10-04 13:40:11,225 copying /tmp/tmpr4dnpuah to cache at /root/.flair/embeddings/lm-news-english-backward-1024-v0.2rc.pt\n",
            "2020-10-04 13:40:11,255 removing temp file /tmp/tmpr4dnpuah\n"
          ],
          "name": "stdout"
        },
        {
          "output_type": "stream",
          "text": [
            "\n"
          ],
          "name": "stderr"
        }
      ]
    },
    {
      "cell_type": "code",
      "metadata": {
        "id": "NAcDr64m1ehI",
        "outputId": "03f042ee-f61d-4c7b-f008-05a5340bd7ca",
        "colab": {
          "base_uri": "https://localhost:8080/",
          "height": 70
        }
      },
      "source": [
        "# Document Embeddings\n",
        "document_embeddings = DocumentLSTMEmbeddings(word_embeddings,hidden_size=512,reproject_words=True,reproject_words_dimension=256)"
      ],
      "execution_count": 62,
      "outputs": [
        {
          "output_type": "stream",
          "text": [
            "/usr/local/lib/python3.6/dist-packages/ipykernel_launcher.py:2: DeprecationWarning: Call to deprecated method __init__. (The functionality of this class is moved to 'DocumentRNNEmbeddings') -- Deprecated since version 0.4.\n",
            "  \n"
          ],
          "name": "stderr"
        }
      ]
    },
    {
      "cell_type": "markdown",
      "metadata": {
        "id": "ZxaR3YyQ2bQu"
      },
      "source": [
        "#### Building and Training"
      ]
    },
    {
      "cell_type": "code",
      "metadata": {
        "id": "NW9ahde21eaj"
      },
      "source": [
        "# Load NLP Pkgs\n",
        "from flair.models import TextClassifier\n",
        "from flair.trainers import ModelTrainer"
      ],
      "execution_count": 63,
      "outputs": []
    },
    {
      "cell_type": "code",
      "metadata": {
        "id": "-EXte0q11eVl"
      },
      "source": [
        "# Classifier with CSV dataset\n",
        "clf = TextClassifier(document_embeddings,label_dictionary=label_dict_csv)"
      ],
      "execution_count": 64,
      "outputs": []
    },
    {
      "cell_type": "code",
      "metadata": {
        "id": "8NjWyDAO7zH_"
      },
      "source": [
        "# Classifier with FastText Format\n",
        "clf2 = TextClassifier(document_embeddings,label_dictionary=label_dict_fst)"
      ],
      "execution_count": 68,
      "outputs": []
    },
    {
      "cell_type": "code",
      "metadata": {
        "id": "4INabM9a3emA"
      },
      "source": [
        "# Training\n",
        "# Init\n",
        "trainer = ModelTrainer(clf2,corpus_fst)"
      ],
      "execution_count": 69,
      "outputs": []
    },
    {
      "cell_type": "code",
      "metadata": {
        "id": "QVaSZPHH3p12",
        "outputId": "e50abb71-1c27-49fa-fb1a-4a2a43ed6f45",
        "colab": {
          "base_uri": "https://localhost:8080/",
          "height": 1000
        }
      },
      "source": [
        "# Fit/Training with Dataset\n",
        "trainer.train('data_fst/',max_epochs=2)"
      ],
      "execution_count": 70,
      "outputs": [
        {
          "output_type": "stream",
          "text": [
            "2020-10-04 14:07:16,724 ----------------------------------------------------------------------------------------------------\n",
            "2020-10-04 14:07:16,727 Model: \"TextClassifier(\n",
            "  (document_embeddings): DocumentLSTMEmbeddings(\n",
            "    (embeddings): StackedEmbeddings(\n",
            "      (list_embedding_0): FlairEmbeddings(\n",
            "        (lm): LanguageModel(\n",
            "          (drop): Dropout(p=0.25, inplace=False)\n",
            "          (encoder): Embedding(275, 100)\n",
            "          (rnn): LSTM(100, 1024)\n",
            "          (decoder): Linear(in_features=1024, out_features=275, bias=True)\n",
            "        )\n",
            "      )\n",
            "      (list_embedding_1): FlairEmbeddings(\n",
            "        (lm): LanguageModel(\n",
            "          (drop): Dropout(p=0.25, inplace=False)\n",
            "          (encoder): Embedding(275, 100)\n",
            "          (rnn): LSTM(100, 1024)\n",
            "          (decoder): Linear(in_features=1024, out_features=275, bias=True)\n",
            "        )\n",
            "      )\n",
            "    )\n",
            "    (word_reprojection_map): Linear(in_features=2048, out_features=256, bias=True)\n",
            "    (rnn): GRU(256, 512)\n",
            "    (dropout): Dropout(p=0.5, inplace=False)\n",
            "  )\n",
            "  (decoder): Linear(in_features=512, out_features=2, bias=True)\n",
            "  (loss_function): CrossEntropyLoss()\n",
            "  (beta): 1.0\n",
            "  (weights): None\n",
            "  (weight_tensor) None\n",
            ")\"\n",
            "2020-10-04 14:07:16,729 ----------------------------------------------------------------------------------------------------\n",
            "2020-10-04 14:07:16,731 Corpus: \"Corpus: 2801 train + 935 dev + 932 test sentences\"\n",
            "2020-10-04 14:07:16,733 ----------------------------------------------------------------------------------------------------\n",
            "2020-10-04 14:07:16,735 Parameters:\n",
            "2020-10-04 14:07:16,737  - learning_rate: \"0.1\"\n",
            "2020-10-04 14:07:16,741  - mini_batch_size: \"32\"\n",
            "2020-10-04 14:07:16,743  - patience: \"3\"\n",
            "2020-10-04 14:07:16,744  - anneal_factor: \"0.5\"\n",
            "2020-10-04 14:07:16,745  - max_epochs: \"2\"\n",
            "2020-10-04 14:07:16,746  - shuffle: \"True\"\n",
            "2020-10-04 14:07:16,748  - train_with_dev: \"False\"\n",
            "2020-10-04 14:07:16,751  - batch_growth_annealing: \"False\"\n",
            "2020-10-04 14:07:16,752 ----------------------------------------------------------------------------------------------------\n",
            "2020-10-04 14:07:16,756 Model training base path: \"data_fst\"\n",
            "2020-10-04 14:07:16,758 ----------------------------------------------------------------------------------------------------\n",
            "2020-10-04 14:07:16,761 Device: cpu\n",
            "2020-10-04 14:07:16,763 ----------------------------------------------------------------------------------------------------\n",
            "2020-10-04 14:07:16,765 Embeddings storage mode: cpu\n",
            "2020-10-04 14:07:16,767 ----------------------------------------------------------------------------------------------------\n",
            "2020-10-04 14:07:35,472 epoch 1 - iter 8/88 - loss 0.51544183 - samples/sec: 13.93 - lr: 0.100000\n",
            "2020-10-04 14:07:53,353 epoch 1 - iter 16/88 - loss 0.48173103 - samples/sec: 14.33 - lr: 0.100000\n",
            "2020-10-04 14:08:10,173 epoch 1 - iter 24/88 - loss 0.48178329 - samples/sec: 15.59 - lr: 0.100000\n",
            "2020-10-04 14:08:26,789 epoch 1 - iter 32/88 - loss 0.48624196 - samples/sec: 15.42 - lr: 0.100000\n",
            "2020-10-04 14:08:43,764 epoch 1 - iter 40/88 - loss 0.48142542 - samples/sec: 15.11 - lr: 0.100000\n",
            "2020-10-04 14:09:00,269 epoch 1 - iter 48/88 - loss 0.46682192 - samples/sec: 15.52 - lr: 0.100000\n",
            "2020-10-04 14:09:17,383 epoch 1 - iter 56/88 - loss 0.46152312 - samples/sec: 14.98 - lr: 0.100000\n",
            "2020-10-04 14:09:34,412 epoch 1 - iter 64/88 - loss 0.46239550 - samples/sec: 15.27 - lr: 0.100000\n",
            "2020-10-04 14:09:50,761 epoch 1 - iter 72/88 - loss 0.45929928 - samples/sec: 15.68 - lr: 0.100000\n",
            "2020-10-04 14:10:07,515 epoch 1 - iter 80/88 - loss 0.45689389 - samples/sec: 15.30 - lr: 0.100000\n",
            "2020-10-04 14:10:24,207 epoch 1 - iter 88/88 - loss 0.45517061 - samples/sec: 15.34 - lr: 0.100000\n",
            "2020-10-04 14:10:24,341 ----------------------------------------------------------------------------------------------------\n",
            "2020-10-04 14:10:24,343 EPOCH 1 done: loss 0.4552 - lr 0.1000000\n",
            "2020-10-04 14:11:24,636 DEV : loss 0.4188002943992615 - score 0.8182\n",
            "2020-10-04 14:11:25,024 BAD EPOCHS (no improvement): 0\n",
            "saving best model\n",
            "2020-10-04 14:11:25,103 ----------------------------------------------------------------------------------------------------\n",
            "2020-10-04 14:11:42,894 epoch 2 - iter 8/88 - loss 0.37963553 - samples/sec: 14.60 - lr: 0.100000\n",
            "2020-10-04 14:12:00,383 epoch 2 - iter 16/88 - loss 0.39962170 - samples/sec: 14.65 - lr: 0.100000\n",
            "2020-10-04 14:12:17,873 epoch 2 - iter 24/88 - loss 0.39758716 - samples/sec: 14.66 - lr: 0.100000\n",
            "2020-10-04 14:12:34,445 epoch 2 - iter 32/88 - loss 0.41368278 - samples/sec: 15.48 - lr: 0.100000\n",
            "2020-10-04 14:12:52,102 epoch 2 - iter 40/88 - loss 0.41964307 - samples/sec: 14.77 - lr: 0.100000\n",
            "2020-10-04 14:13:08,885 epoch 2 - iter 48/88 - loss 0.41549904 - samples/sec: 15.28 - lr: 0.100000\n",
            "2020-10-04 14:13:25,909 epoch 2 - iter 56/88 - loss 0.40940068 - samples/sec: 15.05 - lr: 0.100000\n",
            "2020-10-04 14:13:42,876 epoch 2 - iter 64/88 - loss 0.40874149 - samples/sec: 15.11 - lr: 0.100000\n",
            "2020-10-04 14:13:59,836 epoch 2 - iter 72/88 - loss 0.41267412 - samples/sec: 15.10 - lr: 0.100000\n",
            "2020-10-04 14:14:16,749 epoch 2 - iter 80/88 - loss 0.41082591 - samples/sec: 15.16 - lr: 0.100000\n",
            "2020-10-04 14:14:33,315 epoch 2 - iter 88/88 - loss 0.41240300 - samples/sec: 15.46 - lr: 0.100000\n",
            "2020-10-04 14:14:33,468 ----------------------------------------------------------------------------------------------------\n",
            "2020-10-04 14:14:33,470 EPOCH 2 done: loss 0.4124 - lr 0.1000000\n",
            "2020-10-04 14:15:32,670 DEV : loss 0.4321114122867584 - score 0.8214\n",
            "2020-10-04 14:15:33,049 BAD EPOCHS (no improvement): 0\n",
            "saving best model\n",
            "2020-10-04 14:15:33,232 ----------------------------------------------------------------------------------------------------\n",
            "2020-10-04 14:15:33,235 Testing using best model ...\n",
            "2020-10-04 14:15:33,237 loading file data_fst/best-model.pt\n",
            "2020-10-04 14:16:30,423 \t0.8541\n",
            "2020-10-04 14:16:30,425 \n",
            "Results:\n",
            "- F-score (micro) 0.8541\n",
            "- F-score (macro) 0.7223\n",
            "- Accuracy 0.8541\n",
            "\n",
            "By class:\n",
            "               precision    recall  f1-score   support\n",
            "\n",
            "    offensive     0.8965    0.9313    0.9136       772\n",
            "non_offensive     0.5923    0.4813    0.5310       160\n",
            "\n",
            "    micro avg     0.8541    0.8541    0.8541       932\n",
            "    macro avg     0.7444    0.7063    0.7223       932\n",
            " weighted avg     0.8443    0.8541    0.8479       932\n",
            "  samples avg     0.8541    0.8541    0.8541       932\n",
            "\n",
            "2020-10-04 14:16:30,427 ----------------------------------------------------------------------------------------------------\n"
          ],
          "name": "stdout"
        },
        {
          "output_type": "execute_result",
          "data": {
            "text/plain": [
              "{'dev_loss_history': [0.4188002943992615, 0.4321114122867584],\n",
              " 'dev_score_history': [0.8182, 0.8214],\n",
              " 'test_score': 0.8541,\n",
              " 'train_loss_history': [0.4551706066863103, 0.4124030032279817]}"
            ]
          },
          "metadata": {
            "tags": []
          },
          "execution_count": 70
        }
      ]
    },
    {
      "cell_type": "code",
      "metadata": {
        "id": "JLRXv6009Tl_",
        "outputId": "8020c5a4-bd58-4fb3-8663-e5585ebf4331",
        "colab": {
          "base_uri": "https://localhost:8080/",
          "height": 34
        }
      },
      "source": [
        "# Making Prediciton\n",
        "# Load Saved Model and Predict\n",
        "new_clf = TextClassifier.load('data_fst/best-model.pt')"
      ],
      "execution_count": 71,
      "outputs": [
        {
          "output_type": "stream",
          "text": [
            "2020-10-04 14:19:05,861 loading file data_fst/best-model.pt\n"
          ],
          "name": "stdout"
        }
      ]
    },
    {
      "cell_type": "code",
      "metadata": {
        "id": "MWOkTNPu38CK"
      },
      "source": [
        "from flair.data import Sentence"
      ],
      "execution_count": 72,
      "outputs": []
    },
    {
      "cell_type": "code",
      "metadata": {
        "id": "f7FvDgZC5Gk8"
      },
      "source": [
        "# Sample Sentence\n",
        "ex1 = Sentence(\"That girl is a bitch\")\n",
        "ex2 = Sentence(\"This is a good material\")"
      ],
      "execution_count": 73,
      "outputs": []
    },
    {
      "cell_type": "code",
      "metadata": {
        "id": "F628rzep9Ph1"
      },
      "source": [
        "# Apply our model\n",
        "new_clf.predict(ex1)"
      ],
      "execution_count": 74,
      "outputs": []
    },
    {
      "cell_type": "code",
      "metadata": {
        "id": "IDvZUs2A5GeW",
        "outputId": "0e08c7fc-e90e-41c5-96be-565e44faf35d",
        "colab": {
          "base_uri": "https://localhost:8080/",
          "height": 34
        }
      },
      "source": [
        "ex1.labels"
      ],
      "execution_count": 75,
      "outputs": [
        {
          "output_type": "execute_result",
          "data": {
            "text/plain": [
              "[offensive (0.7436)]"
            ]
          },
          "metadata": {
            "tags": []
          },
          "execution_count": 75
        }
      ]
    },
    {
      "cell_type": "code",
      "metadata": {
        "id": "nUyFw-P99PpB"
      },
      "source": [
        "new_clf.predict(ex2)"
      ],
      "execution_count": 76,
      "outputs": []
    },
    {
      "cell_type": "code",
      "metadata": {
        "id": "3y2LlyDZ_T59",
        "outputId": "670c62ec-b979-46db-cf67-0e1665a00373",
        "colab": {
          "base_uri": "https://localhost:8080/",
          "height": 34
        }
      },
      "source": [
        "ex2.labels"
      ],
      "execution_count": 77,
      "outputs": [
        {
          "output_type": "execute_result",
          "data": {
            "text/plain": [
              "[non_offensive (0.7178)]"
            ]
          },
          "metadata": {
            "tags": []
          },
          "execution_count": 77
        }
      ]
    },
    {
      "cell_type": "code",
      "metadata": {
        "id": "ghWb0PW8_O70"
      },
      "source": [
        "# Plot Loss Curve\n",
        "from flair.visual.training_curves import Plotter"
      ],
      "execution_count": 78,
      "outputs": []
    },
    {
      "cell_type": "code",
      "metadata": {
        "id": "2jmU6vnU_lYa",
        "outputId": "929a183d-be8c-4ec2-8e8d-59c56b24b5f2",
        "colab": {
          "base_uri": "https://localhost:8080/",
          "height": 1000
        }
      },
      "source": [
        "plotter = Plotter()\n",
        "plotter.plot_training_curves('data_fst/loss.tsv')\n",
        "plotter.plot_weights('data_fst/weights.txt')"
      ],
      "execution_count": 79,
      "outputs": [
        {
          "output_type": "stream",
          "text": [
            "2020-10-04 14:23:07,751 ----------------------------------------------------------------------------------------------------\n",
            "2020-10-04 14:23:07,753 WARNING: No LOSS found for test split in this data.\n",
            "2020-10-04 14:23:07,754 Are you sure you want to plot LOSS and not another value?\n",
            "2020-10-04 14:23:07,755 ----------------------------------------------------------------------------------------------------\n",
            "2020-10-04 14:23:07,791 ----------------------------------------------------------------------------------------------------\n",
            "2020-10-04 14:23:07,792 WARNING: No F1 found for test split in this data.\n",
            "2020-10-04 14:23:07,793 Are you sure you want to plot F1 and not another value?\n",
            "2020-10-04 14:23:07,794 ----------------------------------------------------------------------------------------------------\n"
          ],
          "name": "stdout"
        },
        {
          "output_type": "stream",
          "text": [
            "No handles with labels found to put in legend.\n"
          ],
          "name": "stderr"
        },
        {
          "output_type": "stream",
          "text": [
            "Loss and F1 plots are saved in data_fst/training.png\n"
          ],
          "name": "stdout"
        },
        {
          "output_type": "display_data",
          "data": {
            "image/png": "[encoded data removed]",
            "text/plain": [
              "<Figure size 1080x720 with 2 Axes>"
            ]
          },
          "metadata": {
            "tags": [],
            "needs_background": "light"
          }
        },
        {
          "output_type": "stream",
          "text": [
            "Weights plots are saved in data_fst/weights.png\n"
          ],
          "name": "stdout"
        },
        {
          "output_type": "display_data",
          "data": {
            "image/png": "[encoded data removed]",
            "text/plain": [
              "<Figure size 576x432 with 4 Axes>"
            ]
          },
          "metadata": {
            "tags": []
          }
        }
      ]
    },
    {
      "cell_type": "code",
      "metadata": {
        "id": "6sCFL70L_lTQ"
      },
      "source": [
        "### Thanks For Watching\n",
        "### Jesus Saves @JCharisTech\n",
        "### Jesse E.Agbe(JCharis)\n",
        "### Awesome NLP Course"
      ],
      "execution_count": 80,
      "outputs": []
    }
  ]
}
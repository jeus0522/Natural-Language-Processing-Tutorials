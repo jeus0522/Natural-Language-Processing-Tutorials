{
 "cells": [
  {
   "cell_type": "markdown",
   "metadata": {},
   "source": [
    "### Text Summarization with SpaCy\n",
    "+ Text summarization is the process of distilling the most important information from a source (or sources) to produce an abridged version for a particular user (or users) and task (or tasks).\n",
    "+  idea of summarization is to find a subset of data which contains the “information” of the entire set\n",
    "+ Main Idea\n",
    "    - Text Preprocessing(remove stopwords,punctuations).\n",
    "    - Frequency table of words/Word Frequency Distribution - how many times each word appears in the document\n",
    "    - Score each sentence depending on the words it contains and the frequency table\n",
    "    - Build summary by joining every sentence above a certain score limit"
   ]
  },
  {
   "cell_type": "code",
   "execution_count": 1,
   "metadata": {},
   "outputs": [],
   "source": [
    "# Load Pkgs\n",
    "import spacy \n",
    "nlp = spacy.load('en')"
   ]
  },
  {
   "cell_type": "code",
   "execution_count": 2,
   "metadata": {},
   "outputs": [],
   "source": [
    "# Text Preprocessing Pkg\n",
    "from spacy.lang.en.stop_words import STOP_WORDS\n",
    "from string import punctuation"
   ]
  },
  {
   "cell_type": "code",
   "execution_count": 3,
   "metadata": {},
   "outputs": [],
   "source": [
    "# Build a List of Stopwords\n",
    "stopwords = list(STOP_WORDS)"
   ]
  },
  {
   "cell_type": "code",
   "execution_count": 4,
   "metadata": {},
   "outputs": [],
   "source": [
    "document1 =\"\"\"Machine learning (ML) is the scientific study of algorithms and statistical models that computer systems use to progressively improve their performance on a specific task. Machine learning algorithms build a mathematical model of sample data, known as \"training data\", in order to make predictions or decisions without being explicitly programmed to perform the task. Machine learning algorithms are used in the applications of email filtering, detection of network intruders, and computer vision, where it is infeasible to develop an algorithm of specific instructions for performing the task. Machine learning is closely related to computational statistics, which focuses on making predictions using computers. The study of mathematical optimization delivers methods, theory and application domains to the field of machine learning. Data mining is a field of study within machine learning, and focuses on exploratory data analysis through unsupervised learning.In its application across business problems, machine learning is also referred to as predictive analytics.\"\"\""
   ]
  },
  {
   "cell_type": "code",
   "execution_count": 5,
   "metadata": {},
   "outputs": [],
   "source": [
    "document2 = \"\"\"Our Father who art in heaven, hallowed be thy name. Thy kingdom come. Thy will be done, on earth as it is in heaven. Give us this day our daily bread; and forgive us our trespasses, as we forgive those who trespass against us; and lead us not into temptation, but deliver us from evil\n",
    "\"\"\""
   ]
  },
  {
   "cell_type": "code",
   "execution_count": 6,
   "metadata": {},
   "outputs": [],
   "source": [
    "# Build an NLP Object\n",
    "docx = nlp(document1)"
   ]
  },
  {
   "cell_type": "code",
   "execution_count": 7,
   "metadata": {},
   "outputs": [
    {
     "name": "stdout",
     "output_type": "stream",
     "text": [
      "Machine\n",
      "learning\n",
      "(\n",
      "ML\n",
      ")\n",
      "is\n",
      "the\n",
      "scientific\n",
      "study\n",
      "of\n",
      "algorithms\n",
      "and\n",
      "statistical\n",
      "models\n",
      "that\n",
      "computer\n",
      "systems\n",
      "use\n",
      "to\n",
      "progressively\n",
      "improve\n",
      "their\n",
      "performance\n",
      "on\n",
      "a\n",
      "specific\n",
      "task\n",
      ".\n",
      "Machine\n",
      "learning\n",
      "algorithms\n",
      "build\n",
      "a\n",
      "mathematical\n",
      "model\n",
      "of\n",
      "sample\n",
      "data\n",
      ",\n",
      "known\n",
      "as\n",
      "\"\n",
      "training\n",
      "data\n",
      "\"\n",
      ",\n",
      "in\n",
      "order\n",
      "to\n",
      "make\n",
      "predictions\n",
      "or\n",
      "decisions\n",
      "without\n",
      "being\n",
      "explicitly\n",
      "programmed\n",
      "to\n",
      "perform\n",
      "the\n",
      "task\n",
      ".\n",
      "Machine\n",
      "learning\n",
      "algorithms\n",
      "are\n",
      "used\n",
      "in\n",
      "the\n",
      "applications\n",
      "of\n",
      "email\n",
      "filtering\n",
      ",\n",
      "detection\n",
      "of\n",
      "network\n",
      "intruders\n",
      ",\n",
      "and\n",
      "computer\n",
      "vision\n",
      ",\n",
      "where\n",
      "it\n",
      "is\n",
      "infeasible\n",
      "to\n",
      "develop\n",
      "an\n",
      "algorithm\n",
      "of\n",
      "specific\n",
      "instructions\n",
      "for\n",
      "performing\n",
      "the\n",
      "task\n",
      ".\n",
      "Machine\n",
      "learning\n",
      "is\n",
      "closely\n",
      "related\n",
      "to\n",
      "computational\n",
      "statistics\n",
      ",\n",
      "which\n",
      "focuses\n",
      "on\n",
      "making\n",
      "predictions\n",
      "using\n",
      "computers\n",
      ".\n",
      "The\n",
      "study\n",
      "of\n",
      "mathematical\n",
      "optimization\n",
      "delivers\n",
      "methods\n",
      ",\n",
      "theory\n",
      "and\n",
      "application\n",
      "domains\n",
      "to\n",
      "the\n",
      "field\n",
      "of\n",
      "machine\n",
      "learning\n",
      ".\n",
      "Data\n",
      "mining\n",
      "is\n",
      "a\n",
      "field\n",
      "of\n",
      "study\n",
      "within\n",
      "machine\n",
      "learning\n",
      ",\n",
      "and\n",
      "focuses\n",
      "on\n",
      "exploratory\n",
      "data\n",
      "analysis\n",
      "through\n",
      "unsupervised\n",
      "learning\n",
      ".\n",
      "In\n",
      "its\n",
      "application\n",
      "across\n",
      "business\n",
      "problems\n",
      ",\n",
      "machine\n",
      "learning\n",
      "is\n",
      "also\n",
      "referred\n",
      "to\n",
      "as\n",
      "predictive\n",
      "analytics\n",
      ".\n"
     ]
    }
   ],
   "source": [
    "# Tokenization of Text\n",
    "for token in docx:\n",
    "    print(token.text)"
   ]
  },
  {
   "cell_type": "markdown",
   "metadata": {},
   "source": [
    "#### Word Frequency\n",
    "+ How many times each word appears in the document\n",
    "+ Use of word tokens and then a dictionary of words"
   ]
  },
  {
   "cell_type": "code",
   "execution_count": 8,
   "metadata": {},
   "outputs": [],
   "source": [
    "# Build Word Frequency\n",
    "# word.text is tokenization in spacy\n",
    "word_frequencies = {}\n",
    "for word in docx:\n",
    "    if word.text not in stopwords:\n",
    "            if word.text not in word_frequencies.keys():\n",
    "                word_frequencies[word.text] = 1\n",
    "            else:\n",
    "                word_frequencies[word.text] += 1"
   ]
  },
  {
   "cell_type": "code",
   "execution_count": 9,
   "metadata": {},
   "outputs": [],
   "source": [
    "# Maximum Word Frequency\n",
    "maximum_frequency = max(word_frequencies.values())"
   ]
  },
  {
   "cell_type": "code",
   "execution_count": 11,
   "metadata": {},
   "outputs": [],
   "source": [
    "for word in word_frequencies.keys():  \n",
    "        word_frequencies[word] = (word_frequencies[word]/maximum_frequency)"
   ]
  },
  {
   "cell_type": "markdown",
   "metadata": {},
   "source": [
    "#### Word Frequency Distribution "
   ]
  },
  {
   "cell_type": "code",
   "execution_count": 12,
   "metadata": {},
   "outputs": [
    {
     "data": {
      "text/plain": [
       "{'Machine': 0.4444444444444444,\n",
       " 'learning': 0.8888888888888888,\n",
       " '(': 0.1111111111111111,\n",
       " 'ML': 0.1111111111111111,\n",
       " ')': 0.1111111111111111,\n",
       " 'scientific': 0.1111111111111111,\n",
       " 'study': 0.3333333333333333,\n",
       " 'algorithms': 0.3333333333333333,\n",
       " 'statistical': 0.1111111111111111,\n",
       " 'models': 0.1111111111111111,\n",
       " 'computer': 0.2222222222222222,\n",
       " 'systems': 0.1111111111111111,\n",
       " 'use': 0.1111111111111111,\n",
       " 'progressively': 0.1111111111111111,\n",
       " 'improve': 0.1111111111111111,\n",
       " 'performance': 0.1111111111111111,\n",
       " 'specific': 0.2222222222222222,\n",
       " 'task': 0.3333333333333333,\n",
       " '.': 0.7777777777777778,\n",
       " 'build': 0.1111111111111111,\n",
       " 'mathematical': 0.2222222222222222,\n",
       " 'model': 0.1111111111111111,\n",
       " 'sample': 0.1111111111111111,\n",
       " 'data': 0.3333333333333333,\n",
       " ',': 1.0,\n",
       " 'known': 0.1111111111111111,\n",
       " '\"': 0.2222222222222222,\n",
       " 'training': 0.1111111111111111,\n",
       " 'order': 0.1111111111111111,\n",
       " 'predictions': 0.2222222222222222,\n",
       " 'decisions': 0.1111111111111111,\n",
       " 'explicitly': 0.1111111111111111,\n",
       " 'programmed': 0.1111111111111111,\n",
       " 'perform': 0.1111111111111111,\n",
       " 'applications': 0.1111111111111111,\n",
       " 'email': 0.1111111111111111,\n",
       " 'filtering': 0.1111111111111111,\n",
       " 'detection': 0.1111111111111111,\n",
       " 'network': 0.1111111111111111,\n",
       " 'intruders': 0.1111111111111111,\n",
       " 'vision': 0.1111111111111111,\n",
       " 'infeasible': 0.1111111111111111,\n",
       " 'develop': 0.1111111111111111,\n",
       " 'algorithm': 0.1111111111111111,\n",
       " 'instructions': 0.1111111111111111,\n",
       " 'performing': 0.1111111111111111,\n",
       " 'closely': 0.1111111111111111,\n",
       " 'related': 0.1111111111111111,\n",
       " 'computational': 0.1111111111111111,\n",
       " 'statistics': 0.1111111111111111,\n",
       " 'focuses': 0.2222222222222222,\n",
       " 'making': 0.1111111111111111,\n",
       " 'computers': 0.1111111111111111,\n",
       " 'The': 0.1111111111111111,\n",
       " 'optimization': 0.1111111111111111,\n",
       " 'delivers': 0.1111111111111111,\n",
       " 'methods': 0.1111111111111111,\n",
       " 'theory': 0.1111111111111111,\n",
       " 'application': 0.2222222222222222,\n",
       " 'domains': 0.1111111111111111,\n",
       " 'field': 0.2222222222222222,\n",
       " 'machine': 0.3333333333333333,\n",
       " 'Data': 0.1111111111111111,\n",
       " 'mining': 0.1111111111111111,\n",
       " 'exploratory': 0.1111111111111111,\n",
       " 'analysis': 0.1111111111111111,\n",
       " 'unsupervised': 0.1111111111111111,\n",
       " 'In': 0.1111111111111111,\n",
       " 'business': 0.1111111111111111,\n",
       " 'problems': 0.1111111111111111,\n",
       " 'referred': 0.1111111111111111,\n",
       " 'predictive': 0.1111111111111111,\n",
       " 'analytics': 0.1111111111111111}"
      ]
     },
     "execution_count": 12,
     "metadata": {},
     "output_type": "execute_result"
    }
   ],
   "source": [
    "# Frequency Table\n",
    "word_frequencies"
   ]
  },
  {
   "cell_type": "markdown",
   "metadata": {},
   "source": [
    "#### Sentence Score and Ranking of Words in Each Sentence\n",
    "+ Sentence Tokens"
   ]
  },
  {
   "cell_type": "code",
   "execution_count": 19,
   "metadata": {},
   "outputs": [],
   "source": [
    "# Sentence Tokens\n",
    "sentence_list = [ sentence for sentence in docx.sents ]"
   ]
  },
  {
   "cell_type": "code",
   "execution_count": 15,
   "metadata": {},
   "outputs": [
    {
     "data": {
      "text/plain": [
       "['machine',\n",
       " 'learning',\n",
       " '(',\n",
       " 'ml',\n",
       " ')',\n",
       " 'is',\n",
       " 'the',\n",
       " 'scientific',\n",
       " 'study',\n",
       " 'of',\n",
       " 'algorithms',\n",
       " 'and',\n",
       " 'statistical',\n",
       " 'models',\n",
       " 'that',\n",
       " 'computer',\n",
       " 'systems',\n",
       " 'use',\n",
       " 'to',\n",
       " 'progressively',\n",
       " 'improve',\n",
       " 'their',\n",
       " 'performance',\n",
       " 'on',\n",
       " 'a',\n",
       " 'specific',\n",
       " 'task',\n",
       " '.',\n",
       " 'machine',\n",
       " 'learning',\n",
       " 'algorithms',\n",
       " 'build',\n",
       " 'a',\n",
       " 'mathematical',\n",
       " 'model',\n",
       " 'of',\n",
       " 'sample',\n",
       " 'data',\n",
       " ',',\n",
       " 'known',\n",
       " 'as',\n",
       " '\"',\n",
       " 'training',\n",
       " 'data',\n",
       " '\"',\n",
       " ',',\n",
       " 'in',\n",
       " 'order',\n",
       " 'to',\n",
       " 'make',\n",
       " 'predictions',\n",
       " 'or',\n",
       " 'decisions',\n",
       " 'without',\n",
       " 'being',\n",
       " 'explicitly',\n",
       " 'programmed',\n",
       " 'to',\n",
       " 'perform',\n",
       " 'the',\n",
       " 'task',\n",
       " '.',\n",
       " 'machine',\n",
       " 'learning',\n",
       " 'algorithms',\n",
       " 'are',\n",
       " 'used',\n",
       " 'in',\n",
       " 'the',\n",
       " 'applications',\n",
       " 'of',\n",
       " 'email',\n",
       " 'filtering',\n",
       " ',',\n",
       " 'detection',\n",
       " 'of',\n",
       " 'network',\n",
       " 'intruders',\n",
       " ',',\n",
       " 'and',\n",
       " 'computer',\n",
       " 'vision',\n",
       " ',',\n",
       " 'where',\n",
       " 'it',\n",
       " 'is',\n",
       " 'infeasible',\n",
       " 'to',\n",
       " 'develop',\n",
       " 'an',\n",
       " 'algorithm',\n",
       " 'of',\n",
       " 'specific',\n",
       " 'instructions',\n",
       " 'for',\n",
       " 'performing',\n",
       " 'the',\n",
       " 'task',\n",
       " '.',\n",
       " 'machine',\n",
       " 'learning',\n",
       " 'is',\n",
       " 'closely',\n",
       " 'related',\n",
       " 'to',\n",
       " 'computational',\n",
       " 'statistics',\n",
       " ',',\n",
       " 'which',\n",
       " 'focuses',\n",
       " 'on',\n",
       " 'making',\n",
       " 'predictions',\n",
       " 'using',\n",
       " 'computers',\n",
       " '.',\n",
       " 'the',\n",
       " 'study',\n",
       " 'of',\n",
       " 'mathematical',\n",
       " 'optimization',\n",
       " 'delivers',\n",
       " 'methods',\n",
       " ',',\n",
       " 'theory',\n",
       " 'and',\n",
       " 'application',\n",
       " 'domains',\n",
       " 'to',\n",
       " 'the',\n",
       " 'field',\n",
       " 'of',\n",
       " 'machine',\n",
       " 'learning',\n",
       " '.',\n",
       " 'data',\n",
       " 'mining',\n",
       " 'is',\n",
       " 'a',\n",
       " 'field',\n",
       " 'of',\n",
       " 'study',\n",
       " 'within',\n",
       " 'machine',\n",
       " 'learning',\n",
       " ',',\n",
       " 'and',\n",
       " 'focuses',\n",
       " 'on',\n",
       " 'exploratory',\n",
       " 'data',\n",
       " 'analysis',\n",
       " 'through',\n",
       " 'unsupervised',\n",
       " 'learning',\n",
       " '.',\n",
       " 'in',\n",
       " 'its',\n",
       " 'application',\n",
       " 'across',\n",
       " 'business',\n",
       " 'problems',\n",
       " ',',\n",
       " 'machine',\n",
       " 'learning',\n",
       " 'is',\n",
       " 'also',\n",
       " 'referred',\n",
       " 'to',\n",
       " 'as',\n",
       " 'predictive',\n",
       " 'analytics',\n",
       " '.']"
      ]
     },
     "execution_count": 15,
     "metadata": {},
     "output_type": "execute_result"
    }
   ],
   "source": [
    "# Example of Sentence Tokenization,Word Tokenization and Lowering All Text\n",
    "# for t in sentence_list:\n",
    "#     for w in t:\n",
    "#         print(w.text.lower())\n",
    "[w.text.lower() for t in sentence_list for w in t ]"
   ]
  },
  {
   "cell_type": "code",
   "execution_count": 20,
   "metadata": {},
   "outputs": [],
   "source": [
    "# Sentence Score via comparrng each word with sentence\n",
    "sentence_scores = {}  \n",
    "for sent in sentence_list:  \n",
    "        for word in sent:\n",
    "            if word.text.lower() in word_frequencies.keys():\n",
    "                if len(sent.text.split(' ')) < 30:\n",
    "                    if sent not in sentence_scores.keys():\n",
    "                        sentence_scores[sent] = word_frequencies[word.text.lower()]\n",
    "                    else:\n",
    "                        sentence_scores[sent] += word_frequencies[word.text.lower()]\n",
    "\n"
   ]
  },
  {
   "cell_type": "code",
   "execution_count": null,
   "metadata": {},
   "outputs": [],
   "source": [
    "# Sentence Score via comparrng each word with sentence\n",
    "# Alternative Method\n",
    "lowered_sentence_list = [w.text.lower() for t in sentence_list for w in t ]\n",
    "lowered_sentence_scores = {}  \n",
    "for sent in lowered_sentence_list:  \n",
    "        for word in sent:\n",
    "            if word.text in word_frequencies.keys():\n",
    "                if len(sent.split(' ')) < 30:\n",
    "                    if sent not in sentence_scores.keys():\n",
    "                        lowered_sentence_scores[sent] = word_frequencies[word.text]\n",
    "                    else:\n",
    "                        lowered_sentence_scores[sent] += word_frequencies[word.text]"
   ]
  },
  {
   "cell_type": "markdown",
   "metadata": {},
   "source": [
    "##### Get Sentence Score \n"
   ]
  },
  {
   "cell_type": "code",
   "execution_count": 21,
   "metadata": {},
   "outputs": [
    {
     "data": {
      "text/plain": [
       "{Machine learning (ML) is the scientific study of algorithms and statistical models that computer systems use to progressively improve their performance on a specific task.: 4.555555555555556,\n",
       " Machine learning algorithms build a mathematical model of sample data, known as \"training data\", in order to make predictions or decisions without being explicitly programmed to perform the task.: 7.333333333333331,\n",
       " Machine learning is closely related to computational statistics, which focuses on making predictions using computers.: 4.111111111111112,\n",
       " The study of mathematical optimization delivers methods, theory and application domains to the field of machine learning.: 4.555555555555556,\n",
       " Data mining is a field of study within machine learning, and focuses on exploratory data analysis through unsupervised learning.: 5.777777777777778,\n",
       " In its application across business problems, machine learning is also referred to as predictive analytics.: 3.7777777777777777}"
      ]
     },
     "execution_count": 21,
     "metadata": {},
     "output_type": "execute_result"
    }
   ],
   "source": [
    "# Sentence Score Table\n",
    "sentence_scores"
   ]
  },
  {
   "cell_type": "markdown",
   "metadata": {},
   "source": [
    "#### Finding Top N Sentence \n",
    "+ using heapq"
   ]
  },
  {
   "cell_type": "code",
   "execution_count": 22,
   "metadata": {},
   "outputs": [],
   "source": [
    "# Import Heapq \n",
    "from heapq import nlargest"
   ]
  },
  {
   "cell_type": "code",
   "execution_count": 23,
   "metadata": {},
   "outputs": [],
   "source": [
    "summary_sentences = nlargest(7, sentence_scores, key=sentence_scores.get)"
   ]
  },
  {
   "cell_type": "code",
   "execution_count": 24,
   "metadata": {},
   "outputs": [
    {
     "data": {
      "text/plain": [
       "[Machine learning algorithms build a mathematical model of sample data, known as \"training data\", in order to make predictions or decisions without being explicitly programmed to perform the task.,\n",
       " Data mining is a field of study within machine learning, and focuses on exploratory data analysis through unsupervised learning.,\n",
       " Machine learning (ML) is the scientific study of algorithms and statistical models that computer systems use to progressively improve their performance on a specific task.,\n",
       " The study of mathematical optimization delivers methods, theory and application domains to the field of machine learning.,\n",
       " Machine learning is closely related to computational statistics, which focuses on making predictions using computers.,\n",
       " In its application across business problems, machine learning is also referred to as predictive analytics.]"
      ]
     },
     "execution_count": 24,
     "metadata": {},
     "output_type": "execute_result"
    }
   ],
   "source": [
    "summary_sentences "
   ]
  },
  {
   "cell_type": "code",
   "execution_count": 25,
   "metadata": {},
   "outputs": [
    {
     "name": "stdout",
     "output_type": "stream",
     "text": [
      "Machine learning algorithms build a mathematical model of sample data, known as \"training data\", in order to make predictions or decisions without being explicitly programmed to perform the task.\n",
      "Data mining is a field of study within machine learning, and focuses on exploratory data analysis through unsupervised learning.\n",
      "Machine learning (ML) is the scientific study of algorithms and statistical models that computer systems use to progressively improve their performance on a specific task.\n",
      "The study of mathematical optimization delivers methods, theory and application domains to the field of machine learning.\n",
      "Machine learning is closely related to computational statistics, which focuses on making predictions using computers.\n",
      "In its application across business problems, machine learning is also referred to as predictive analytics.\n"
     ]
    }
   ],
   "source": [
    "# Convert Sentences from Spacy Span to Strings for joining entire sentence\n",
    "for w in summary_sentences:\n",
    "    print(w.text)"
   ]
  },
  {
   "cell_type": "code",
   "execution_count": 26,
   "metadata": {},
   "outputs": [],
   "source": [
    "# List Comprehension of Sentences Converted From Spacy.span to strings\n",
    "final_sentences = [ w.text for w in summary_sentences ]"
   ]
  },
  {
   "cell_type": "code",
   "execution_count": 27,
   "metadata": {},
   "outputs": [],
   "source": [
    "summary = ' '.join(final_sentences)"
   ]
  },
  {
   "cell_type": "code",
   "execution_count": 28,
   "metadata": {},
   "outputs": [
    {
     "data": {
      "text/plain": [
       "'Machine learning algorithms build a mathematical model of sample data, known as \"training data\", in order to make predictions or decisions without being explicitly programmed to perform the task. Data mining is a field of study within machine learning, and focuses on exploratory data analysis through unsupervised learning. Machine learning (ML) is the scientific study of algorithms and statistical models that computer systems use to progressively improve their performance on a specific task. The study of mathematical optimization delivers methods, theory and application domains to the field of machine learning. Machine learning is closely related to computational statistics, which focuses on making predictions using computers. In its application across business problems, machine learning is also referred to as predictive analytics.'"
      ]
     },
     "execution_count": 28,
     "metadata": {},
     "output_type": "execute_result"
    }
   ],
   "source": [
    "summary"
   ]
  },
  {
   "cell_type": "code",
   "execution_count": 29,
   "metadata": {},
   "outputs": [
    {
     "data": {
      "text/plain": [
       "843"
      ]
     },
     "execution_count": 29,
     "metadata": {},
     "output_type": "execute_result"
    }
   ],
   "source": [
    "# Length of Summary\n",
    "len(summary)"
   ]
  },
  {
   "cell_type": "code",
   "execution_count": 32,
   "metadata": {},
   "outputs": [
    {
     "data": {
      "text/plain": [
       "1069"
      ]
     },
     "execution_count": 32,
     "metadata": {},
     "output_type": "execute_result"
    }
   ],
   "source": [
    "# Length of Original Text\n",
    "len(document1)"
   ]
  },
  {
   "cell_type": "code",
   "execution_count": 34,
   "metadata": {},
   "outputs": [],
   "source": [
    "# Place All As A Function For Reuseability\n",
    "def text_summarizer(raw_docx):\n",
    "    raw_text = raw_docx\n",
    "    docx = nlp(raw_text)\n",
    "    stopwords = list(STOP_WORDS)\n",
    "    # Build Word Frequency\n",
    "# word.text is tokenization in spacy\n",
    "    word_frequencies = {}  \n",
    "    for word in docx:  \n",
    "        if word.text not in stopwords:\n",
    "            if word.text not in word_frequencies.keys():\n",
    "                word_frequencies[word.text] = 1\n",
    "            else:\n",
    "                word_frequencies[word.text] += 1\n",
    "\n",
    "\n",
    "    maximum_frequncy = max(word_frequencies.values())\n",
    "\n",
    "    for word in word_frequencies.keys():  \n",
    "        word_frequencies[word] = (word_frequencies[word]/maximum_frequncy)\n",
    "    # Sentence Tokens\n",
    "    sentence_list = [ sentence for sentence in docx.sents ]\n",
    "\n",
    "    # Calculate Sentence Score and Ranking\n",
    "    sentence_scores = {}  \n",
    "    for sent in sentence_list:  \n",
    "        for word in sent:\n",
    "            if word.text.lower() in word_frequencies.keys():\n",
    "                if len(sent.text.split(' ')) < 30:\n",
    "                    if sent not in sentence_scores.keys():\n",
    "                        sentence_scores[sent] = word_frequencies[word.text.lower()]\n",
    "                    else:\n",
    "                        sentence_scores[sent] += word_frequencies[word.text.lower()]\n",
    "\n",
    "    # Find N Largest\n",
    "    summary_sentences = nlargest(7, sentence_scores, key=sentence_scores.get)\n",
    "    final_sentences = [ w.text for w in summary_sentences ]\n",
    "    summary = ' '.join(final_sentences)\n",
    "    print(\"Original Document\\n\")\n",
    "    print(raw_docx)\n",
    "    print(\"Total Length:\",len(raw_docx))\n",
    "    print('\\n\\nSummarized Document\\n')\n",
    "    print(summary)\n",
    "    print(\"Total Length:\",len(summary))\n",
    "    "
   ]
  },
  {
   "cell_type": "code",
   "execution_count": 35,
   "metadata": {},
   "outputs": [
    {
     "name": "stdout",
     "output_type": "stream",
     "text": [
      "Original Document\n",
      "\n",
      "Our Father who art in heaven, hallowed be thy name. Thy kingdom come. Thy will be done, on earth as it is in heaven. Give us this day our daily bread; and forgive us our trespasses, as we forgive those who trespass against us; and lead us not into temptation, but deliver us from evil\n",
      "\n",
      "Total Length: 285\n",
      "\n",
      "\n",
      "Summarized Document\n",
      "\n",
      "Our Father who art in heaven, hallowed be thy name. Thy will be done, on earth as it is in heaven. Thy kingdom come.\n",
      "Total Length: 116\n"
     ]
    }
   ],
   "source": [
    "text_summarizer(document2)"
   ]
  },
  {
   "cell_type": "markdown",
   "metadata": {},
   "source": [
    "####  Calculating the Reading Time of A Text\n",
    "+ Main Principle\n",
    "+ Total number of words\n",
    "+ Average Reading Speed of Adults (200-265wpm)"
   ]
  },
  {
   "cell_type": "code",
   "execution_count": 36,
   "metadata": {},
   "outputs": [
    {
     "data": {
      "text/plain": [
       "'Machine learning (ML) is the scientific study of algorithms and statistical models that computer systems use to progressively improve their performance on a specific task. Machine learning algorithms build a mathematical model of sample data, known as \"training data\", in order to make predictions or decisions without being explicitly programmed to perform the task. Machine learning algorithms are used in the applications of email filtering, detection of network intruders, and computer vision, where it is infeasible to develop an algorithm of specific instructions for performing the task. Machine learning is closely related to computational statistics, which focuses on making predictions using computers. The study of mathematical optimization delivers methods, theory and application domains to the field of machine learning. Data mining is a field of study within machine learning, and focuses on exploratory data analysis through unsupervised learning.In its application across business problems, machine learning is also referred to as predictive analytics.'"
      ]
     },
     "execution_count": 36,
     "metadata": {},
     "output_type": "execute_result"
    }
   ],
   "source": [
    "document1"
   ]
  },
  {
   "cell_type": "code",
   "execution_count": 37,
   "metadata": {},
   "outputs": [],
   "source": [
    "# Get Total Word Counts with Tokenization\n",
    "docx1 = nlp(document1)"
   ]
  },
  {
   "cell_type": "code",
   "execution_count": 38,
   "metadata": {},
   "outputs": [],
   "source": [
    "# Tokens\n",
    "mytokens = [ token.text for token in docx1 ]"
   ]
  },
  {
   "cell_type": "code",
   "execution_count": 39,
   "metadata": {},
   "outputs": [
    {
     "data": {
      "text/plain": [
       "173"
      ]
     },
     "execution_count": 39,
     "metadata": {},
     "output_type": "execute_result"
    }
   ],
   "source": [
    "# Total Number or Length of Words\n",
    "len(mytokens)"
   ]
  },
  {
   "cell_type": "code",
   "execution_count": 40,
   "metadata": {},
   "outputs": [],
   "source": [
    "# Reading Time\n",
    "def readingTime(docs):\n",
    "    total_words_tokens =  [ token.text for token in nlp(docs)]\n",
    "    estimatedtime  = len(total_words_tokens)/200\n",
    "    return '{} mins'.format(round(estimatedtime))\n",
    "    "
   ]
  },
  {
   "cell_type": "code",
   "execution_count": 41,
   "metadata": {},
   "outputs": [
    {
     "data": {
      "text/plain": [
       "'1 mins'"
      ]
     },
     "execution_count": 41,
     "metadata": {},
     "output_type": "execute_result"
    }
   ],
   "source": [
    "readingTime(document1)"
   ]
  },
  {
   "cell_type": "markdown",
   "metadata": {},
   "source": [
    "##### Using Spacy_Summarizer as A Package"
   ]
  },
  {
   "cell_type": "code",
   "execution_count": 42,
   "metadata": {},
   "outputs": [],
   "source": [
    "### Used it as a package\n",
    "from spacy_summarizer import text_summarizer"
   ]
  },
  {
   "cell_type": "code",
   "execution_count": 43,
   "metadata": {},
   "outputs": [
    {
     "name": "stdout",
     "output_type": "stream",
     "text": [
      "Original Document\n",
      "\n",
      "Our Father who art in heaven, hallowed be thy name. Thy kingdom come. Thy will be done, on earth as it is in heaven. Give us this day our daily bread; and forgive us our trespasses, as we forgive those who trespass against us; and lead us not into temptation, but deliver us from evil\n",
      "\n",
      "Total Length: 285\n",
      "\n",
      "\n",
      "Summarized Document\n",
      "\n",
      "Our Father who art in heaven, hallowed be thy name. Thy will be done, on earth as it is in heaven. Thy kingdom come.\n",
      "Total Length: 116\n"
     ]
    }
   ],
   "source": [
    "text_summarizer(document2)"
   ]
  },
  {
   "cell_type": "code",
   "execution_count": null,
   "metadata": {},
   "outputs": [],
   "source": [
    "# Jesse JCharis\n",
    "# J-Secur1ty\n",
    "# Jesus Saves@JCharisTech\n",
    "# Thanks "
   ]
  }
 ],
 "metadata": {
  "kernelspec": {
   "display_name": "Python 3",
   "language": "python",
   "name": "python3"
  },
  "language_info": {
   "codemirror_mode": {
    "name": "ipython",
    "version": 3
   },
   "file_extension": ".py",
   "mimetype": "text/x-python",
   "name": "python",
   "nbconvert_exporter": "python",
   "pygments_lexer": "ipython3",
   "version": "3.6.7"
  }
 },
 "nbformat": 4,
 "nbformat_minor": 2
}
